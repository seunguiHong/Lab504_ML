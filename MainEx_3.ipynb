{
 "cells": [
  {
   "cell_type": "code",
   "execution_count": null,
   "metadata": {},
   "outputs": [
    {
     "name": "stderr",
     "output_type": "stream",
     "text": [
      "DNN_DUAL rolling:   4%|▍         | 20/520 [03:47<1:34:56, 11.39s/it]\n"
     ]
    },
    {
     "name": "stdout",
     "output_type": "stream",
     "text": []
    }
   ],
   "source": [
    "# ===== CASE 3 : slope(direct) + macro(branch1) ==============================\n",
    "X3 = pd.concat([slope, macro], axis=1)\n",
    "opt3 = {\n",
    "    \"branches\":[{\"cols\":macro.columns.tolist(),\"hidden\":(16,), \"drop\":0.1}],\n",
    "    \"direct_map\":DIRECT_PAIRS,\n",
    "    \"freeze_direct\":False,\n",
    "    \"head_hidden\":16,\n",
    "}\n",
    "grid3 = {\n",
    "    \"dnn__optimizer__lr\":[1e-3],\n",
    "    \"dnn__optimizer__weight_decay\":[1e-4],\n",
    "    \"dnn__lr_br\":[[1e-3]],\n",
    "    \"dnn__lr_head\":[1e-3],\n",
    "    \"dnn__lr_direct\":[5e-4],\n",
    "    \"dnn__module__head_hidden\":[16],\n",
    "}\n",
    "m3 = Machine(X3, y, \"DNN_NBR\", option=opt3, params_grid=grid3,\n",
    "             burn_in_start=BURN_START, burn_in_end=BURN_END,\n",
    "             period=[PERIOD_START, PERIOD_END], forecast_horizon=HORIZON)\n",
    "print(\"\\n▶ CASE-3  slope→direct + macro(branch1)\")\n",
    "m3.training()\n",
    "print(m3.R2OOS())\n",
    "print(m3.MSEOOS())"
   ]
  },
  {
   "cell_type": "code",
   "execution_count": null,
   "metadata": {},
   "outputs": [],
   "source": [
    "# ===== CASE 1 : slope(direct only) ==========================================\n",
    "X1 = slope.copy()                            # feature = slope 열만\n",
    "opt1 = {\n",
    "    \"branches\": [],                          # 0-branch\n",
    "    \"direct_map\": DIRECT_PAIRS,\n",
    "    \"freeze_direct\": False,\n",
    "    \"head_hidden\": 16,\n",
    "}\n",
    "grid1 = {\n",
    "    \"dnn__optimizer__lr\":[1e-3],\n",
    "    \"dnn__optimizer__weight_decay\":[1e-4],\n",
    "    \"dnn__lr_head\":[1e-3],\n",
    "    \"dnn__lr_direct\":[5e-4],\n",
    "    \"dnn__module__head_hidden\":[16],\n",
    "}\n",
    "m1 = Machine(X1, y, \"DNN_NBR\",\n",
    "             option=opt1, params_grid=grid1,\n",
    "             burn_in_start=BURN_START, burn_in_end=BURN_END,\n",
    "             period=[PERIOD_START, PERIOD_END], forecast_horizon=HORIZON)\n",
    "print(\"\\n▶ CASE-1  slope→direct (0-branch)\")\n",
    "m1.training()\n",
    "print(m1.R2OOS())\n",
    "print(m1.MSEOOS())"
   ]
  },
  {
   "cell_type": "code",
   "execution_count": null,
   "metadata": {},
   "outputs": [],
   "source": []
  }
 ],
 "metadata": {
  "kernelspec": {
   "display_name": "Python 3",
   "language": "python",
   "name": "python3"
  },
  "language_info": {
   "codemirror_mode": {
    "name": "ipython",
    "version": 3
   },
   "file_extension": ".py",
   "mimetype": "text/x-python",
   "name": "python",
   "nbconvert_exporter": "python",
   "pygments_lexer": "ipython3",
   "version": "3.12.7"
  }
 },
 "nbformat": 4,
 "nbformat_minor": 4
}

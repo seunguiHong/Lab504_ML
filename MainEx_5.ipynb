{
 "cells": [
  {
   "cell_type": "code",
   "execution_count": null,
   "metadata": {},
   "outputs": [
    {
     "name": "stderr",
     "output_type": "stream",
     "text": [
      "DNN_DUAL rolling:   4%|▍         | 20/520 [03:47<1:34:56, 11.39s/it]\n"
     ]
    },
    {
     "name": "stdout",
     "output_type": "stream",
     "text": []
    }
   ],
   "source": [
    "# ======== COMMON CONFIG (run once) ==========================================\n",
    "import os, sys, re, warnings, argparse, pandas as pd\n",
    "warnings.filterwarnings(\"ignore\")\n",
    "\n",
    "from rolling_framework import Machine           # <-- 프로젝트의 핵심 API\n",
    "\n",
    "# ---- 파일 경로 --------------------------------------------------------------\n",
    "DATA_DIR      = \"data/\"\n",
    "Y_FILE        = os.path.join(DATA_DIR, \"exrets.csv\")\n",
    "SLOPE_FILE    = os.path.join(DATA_DIR, \"slope.csv\")\n",
    "YL_FILE       = os.path.join(DATA_DIR, \"yl_all.csv\")\n",
    "MACRO_FILE    = os.path.join(DATA_DIR, \"MacroFactors.csv\")\n",
    "\n",
    "OUT_DIR       = \"./output\";  os.makedirs(OUT_DIR, exist_ok=True)\n",
    "\n",
    "# ---- 샘플/예측 구간 ---------------------------------------------------------\n",
    "BURN_START, BURN_END   = \"197108\", \"199001\"\n",
    "PERIOD_START, PERIOD_END = \"197108\", \"202312\"\n",
    "HORIZON = 12                           # months ahead\n",
    "\n",
    "MATURITIES = [\"xr_2\",\"xr_3\",\"xr_5\",\"xr_7\",\"xr_10\"]\n",
    "\n",
    "# ---- 유틸 함수 --------------------------------------------------------------\n",
    "def _load_csv(path, name):\n",
    "    try:  return pd.read_csv(path, index_col=\"Time\")\n",
    "    except FileNotFoundError as e:\n",
    "        sys.exit(f\"[ERROR] missing {name} → {e.filename}\")\n",
    "\n",
    "def _align_time(*dfs):\n",
    "    idx=None\n",
    "    for d in dfs: idx = d.index if idx is None else idx.intersection(d.index)\n",
    "    return [d.loc[idx].sort_index() for d in dfs]\n",
    "\n",
    "def _direct_pairs(slope_cols, y_cols):\n",
    "    mk = lambda s: re.search(r\"(\\d+)\", s).group(1) if re.search(r\"(\\d+)\", s) else None\n",
    "    y_map = {mk(c): c for c in y_cols}\n",
    "    return [(sc, y_map[mk(sc)]) for sc in slope_cols if mk(sc) in y_map]\n",
    "\n",
    "# ---- 데이터 로드 & 정렬 ------------------------------------------------------\n",
    "y     = _load_csv(Y_FILE,   \"exrets\")\n",
    "slope = _load_csv(SLOPE_FILE, \"slope\")\n",
    "yl    = _load_csv(YL_FILE,   \"yl_all\")\n",
    "macro = _load_csv(MACRO_FILE,\"MacroFactors\")\n",
    "\n",
    "# 타깃 열 필터\n",
    "y_cols = [c for c in MATURITIES if c in y.columns]\n",
    "if not y_cols: sys.exit(\"[ERROR] MATURITIES not in exrets\")\n",
    "y = y[y_cols]\n",
    "\n",
    "# 시간축 맞추기\n",
    "y, slope, yl, macro = _align_time(y, slope, yl, macro)\n",
    "\n",
    "# slope->y 자동 매핑  ex) slope_2 -> xr_2\n",
    "DIRECT_PAIRS = _direct_pairs(slope.columns, y_cols)\n",
    "\n",
    "print(\"✓ Loaded data shapes:\",\n",
    "      {k:v.shape for k,v in [(\"y\",y),(\"slope\",slope),(\"yl\",yl),(\"macro\",macro)]})\n",
    "print(\"✓ direct map pairs :\", DIRECT_PAIRS)"
   ]
  },
  {
   "cell_type": "code",
   "execution_count": null,
   "metadata": {},
   "outputs": [],
   "source": [
    "# ===== CASE 5 : yl_all only (1-branch, no direct) ===========================\n",
    "X5 = yl.copy()\n",
    "opt5 = {\n",
    "    \"branches\":[{\"cols\":yl.columns.tolist(),\"hidden\":(16,), \"drop\":0.1}],\n",
    "    \"direct_map\":[],\n",
    "    \"head_hidden\":16,\n",
    "}\n",
    "grid5 = {\n",
    "    \"dnn__optimizer__lr\":[1e-3],\n",
    "    \"dnn__optimizer__weight_decay\":[1e-4],\n",
    "    \"dnn__lr_br\":[[1e-3]],\n",
    "    \"dnn__lr_head\":[1e-3],\n",
    "    \"dnn__module__head_hidden\":[16],\n",
    "}\n",
    "m5 = Machine(X5, y, \"DNN_NBR\", option=opt5, params_grid=grid5,\n",
    "             burn_in_start=BURN_START, burn_in_end=BURN_END,\n",
    "             period=[PERIOD_START, PERIOD_END], forecast_horizon=HORIZON)\n",
    "print(\"\\n▶ CASE-5  yl_all only (1-branch, no direct)\")\n",
    "m5.training()\n",
    "print(m5.R2OOS())\n",
    "print(m5.MSEOOS())"
   ]
  },
  {
   "cell_type": "code",
   "execution_count": null,
   "metadata": {},
   "outputs": [],
   "source": []
  }
 ],
 "metadata": {
  "kernelspec": {
   "display_name": "Python 3",
   "language": "python",
   "name": "python3"
  },
  "language_info": {
   "codemirror_mode": {
    "name": "ipython",
    "version": 3
   },
   "file_extension": ".py",
   "mimetype": "text/x-python",
   "name": "python",
   "nbconvert_exporter": "python",
   "pygments_lexer": "ipython3",
   "version": "3.12.7"
  }
 },
 "nbformat": 4,
 "nbformat_minor": 4
}

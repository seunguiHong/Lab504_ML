{
 "cells": [
  {
   "cell_type": "code",
   "execution_count": null,
   "metadata": {},
   "outputs": [
    {
     "name": "stderr",
     "output_type": "stream",
     "text": [
      "/Users/ethan_hong/Library/Python/3.9/lib/python/site-packages/tqdm/auto.py:21: TqdmWarning: IProgress not found. Please update jupyter and ipywidgets. See https://ipywidgets.readthedocs.io/en/stable/user_install.html\n",
      "  from .autonotebook import tqdm as notebook_tqdm\n"
     ]
    }
   ],
   "source": [
    "import pandas as pd, numpy as np\n",
    "from rolling_framework import Machine\n",
    "\n",
    "import warnings\n",
    "warnings.filterwarnings('ignore')"
   ]
  },
  {
   "cell_type": "markdown",
   "metadata": {},
   "source": [
    "### Data Loading"
   ]
  },
  {
   "cell_type": "code",
   "execution_count": null,
   "metadata": {},
   "outputs": [],
   "source": [
    "period = '19712023'\n",
    "\n",
    "#%% Target variables : excess returns\n",
    "y = pd.read_csv(f'data/{period}/exrets_{period}.csv', index_col='Time')             # Target : Excess Return (Bond Risk Premia)\n",
    "y = y[['xr_2','xr_5','xr_7','xr_10']]\n",
    "\n",
    "#%% Predictors (Features)\n",
    "FWDS = pd.read_csv(f'data/{period}/fwds_{period}.csv', index_col='Time')            # Forward Rates\n",
    "MACV = pd.read_csv(f'data/{period}/MacroFactors_{period}.csv', index_col='Time')    # Ludvigson and Ng (2009), Macrovariables\n",
    "LSC = pd.read_csv(f'data/{period}/lsc_{period}.csv', index_col='Time')              # Level, Slope and Curvature\n",
    "# YLV = pd.read_csv(f'data/{period}/yl_{period}.csv', index_col='Time')               # yield-level\n",
    "RVOL = pd.read_csv(f'data/{period}/real_vol_{period}.csv', index_col='Time')        # Realised Volatility 10yr\n",
    "#IVOL = pd.read_csv(f'data/{period}/imp_vol_{period}.csv', index_col='Time')        # Implied Volatility (Work for 1990~)\n",
    "CP = pd.read_csv(f'data/{period}/cp_{period}.csv', index_col='Time')                # Cochrane-Piazessi Factor\n",
    "# YALL = pd.read_csv(f'data/{period}/yl_all_{period}.csv', index_col='Time')          # 12 m, 24 m, ... 120 m\n",
    "# YMAX = pd.read_csv(f'data/{period}/yl_max_{period}.csv', index_col='Time')          # 1m ... 120 m\n",
    "\n",
    "F6 = MACV[['F1','F2','F3','F4','F8','F1^3']]\n",
    "SL = LSC[['slope']]\n",
    "LV = LSC[['level']]\n",
    "CU = LSC[['curvature']]\n",
    "\n",
    "\n",
    "AGG = pd.concat([CP, FWDS], axis=1)"
   ]
  },
  {
   "cell_type": "code",
   "execution_count": 12,
   "metadata": {},
   "outputs": [],
   "source": [
    "# ────────────────────────────\n",
    "# Random-Forest\n",
    "# ────────────────────────────\n",
    "param_grid_rf = {\n",
    "    \"model__estimator__n_estimators\":      [300],\n",
    "    \"model__estimator__max_depth\":         [2, 8],\n",
    "    \"model__estimator__min_samples_split\": [2, 4],\n",
    "    \"model__estimator__min_samples_leaf\":  [1, 2, 4],\n",
    "    \"model__estimator__max_features\":      [0.25, 0.5,1],\n",
    "}\n",
    "\n",
    "# ────────────────────────────\n",
    "# Extra-Trees\n",
    "# ────────────────────────────\n",
    "param_grid_et = {\n",
    "    \"model__estimator__n_estimators\":      [300],\n",
    "    \"model__estimator__max_depth\":         [2, 8],\n",
    "    \"model__estimator__min_samples_split\": [2, 4],\n",
    "    \"model__estimator__min_samples_leaf\":  [1, 2, 4],\n",
    "    \"model__estimator__max_features\":      [0.25, 0.5, 1],\n",
    "}\n",
    "\n",
    "# ────────────────────────────\n",
    "# XGBoost  (XGBRegressor 사용 가정)\n",
    "# ────────────────────────────\n",
    "param_grid_xgb = {\n",
    "    \"model__estimator__n_estimators\":  [300],\n",
    "    \"model__estimator__max_depth\":     [2, 4],\n",
    "    \"model__estimator__learning_rate\": [0.01],\n",
    "    \"model__estimator__subsample\":     [0.7, 0.5],\n",
    "    \"model__estimator__reg_lambda\":    [0.1, 1.0],\n",
    "}\n",
    "\n",
    "param_grid_lasso = {'reg__alpha': [0.001, 1.0]}    \n",
    "param_grid_ridge      = {'reg__alpha': [0.001, 1]}\n",
    "param_grid_elasticnet = {\n",
    "    'reg__alpha':   [0.01, 0.1, 1, 10],\n",
    "    'reg__l1_ratio':[0.1, 0.3, 0.5],\n",
    "}"
   ]
  },
  {
   "cell_type": "markdown",
   "metadata": {},
   "source": [
    "### Helper"
   ]
  },
  {
   "cell_type": "code",
   "execution_count": null,
   "metadata": {},
   "outputs": [],
   "source": [
    "# ────────────────────────────\n",
    "# Custom Weights for Portfolio\n",
    "# ────────────────────────────\n",
    "w_custom = pd.Series(\n",
    "    {\n",
    "        \"xr_2\" : 2,   # 2Y 듀레이션\n",
    "        \"xr_5\" : 5,   # 5Y 듀레이션\n",
    "        \"xr_7\" : 7,   # 7Y 듀레이션\n",
    "        \"xr_10\": 10,   # 10Y 듀레이션\n",
    "    },\n",
    "    name=\"w\"\n",
    ")\n",
    "\n",
    "cols_dw = w_custom.index.tolist()\n",
    "# 합이 1이 되도록 정규화\n",
    "w_custom = w_custom / w_custom.sum()\n",
    "\n",
    "\n",
    "# ────────────────────────────\n",
    "bs = \"197108\" # burn-in-start\n",
    "be = \"198009\" # burn-in-end\n",
    "p = [\"199009\", \"199009\"] #period"
   ]
  },
  {
   "cell_type": "markdown",
   "metadata": {},
   "source": [
    "### OLS, LASSO, ELASTICNET"
   ]
  },
  {
   "cell_type": "code",
   "execution_count": 5,
   "metadata": {},
   "outputs": [
    {
     "name": "stderr",
     "output_type": "stream",
     "text": [
      "OLS rolling: 100%|██████████| 121/121 [00:12<00:00,  9.75it/s]\n",
      "OLS rolling: 100%|██████████| 121/121 [00:03<00:00, 31.26it/s]\n",
      "OLS rolling: 100%|██████████| 121/121 [00:03<00:00, 38.58it/s]\n"
     ]
    },
    {
     "name": "stdout",
     "output_type": "stream",
     "text": [
      "xr_2    -0.158961\n",
      "xr_5    -0.116176\n",
      "xr_7    -0.103879\n",
      "xr_10   -0.086677\n",
      "dtype: float64\n",
      "ew : -0.41571736803014514\n",
      "dw : -0.3850221763142885\n",
      "xr_2     0.200020\n",
      "xr_5     0.350854\n",
      "xr_7     0.409726\n",
      "xr_10    0.429796\n",
      "dtype: float64\n",
      "ew : 0.2280802095595056\n",
      "dw : 0.25900132266376397\n",
      "xr_2     0.131963\n",
      "xr_5     0.016148\n",
      "xr_7    -0.006683\n",
      "xr_10   -0.063270\n",
      "dtype: float64\n",
      "ew : -0.30381352458645927\n",
      "dw : -0.30407193204084804\n"
     ]
    }
   ],
   "source": [
    "ols_1 = Machine(SL, y, 'OLS' , burn_in_start=bs, burn_in_end=be, period=p)\n",
    "ols_1.training()\n",
    "ols_2 = Machine(CP,y, 'OLS', burn_in_start=bs, burn_in_end=be, period=p)\n",
    "ols_2.training()\n",
    "ols_3 = Machine(F6, y, 'OLS', burn_in_start=bs, burn_in_end=be, period=p)\n",
    "ols_3.training()\n",
    "\n",
    "print(ols_1.R2OOS())\n",
    "print('ew :', ols_1.r2_oos_portfolio())\n",
    "print('dw :', ols_1.r2_oos_portfolio(cols = cols_dw, weights=w_custom))\n",
    "\n",
    "print(ols_2.R2OOS())\n",
    "print('ew :', ols_2.r2_oos_portfolio())\n",
    "print('dw :', ols_2.r2_oos_portfolio(cols = cols_dw, weights=w_custom))\n",
    "\n",
    "print(ols_3.R2OOS())\n",
    "print('ew :', ols_3.r2_oos_portfolio())\n",
    "print('dw :', ols_3.r2_oos_portfolio(cols = cols_dw, weights=w_custom))"
   ]
  },
  {
   "cell_type": "code",
   "execution_count": 11,
   "metadata": {},
   "outputs": [
    {
     "name": "stderr",
     "output_type": "stream",
     "text": [
      "Penalized rolling: 100%|██████████| 121/121 [00:05<00:00, 20.48it/s]\n",
      "Penalized rolling: 100%|██████████| 121/121 [00:02<00:00, 57.14it/s]\n",
      "Penalized rolling: 100%|██████████| 121/121 [00:02<00:00, 54.17it/s]\n"
     ]
    },
    {
     "name": "stdout",
     "output_type": "stream",
     "text": [
      "xr_2    -0.158618\n",
      "xr_5    -0.115986\n",
      "xr_7    -0.103716\n",
      "xr_10   -0.086568\n",
      "dtype: float64\n",
      "ew : -0.41551959624014323\n",
      "dw : -0.3848483048070619\n",
      "xr_2     0.199209\n",
      "xr_5     0.349482\n",
      "xr_7     0.408096\n",
      "xr_10    0.428111\n",
      "dtype: float64\n",
      "ew : 0.2260682703260244\n",
      "dw : 0.2569503082818123\n",
      "xr_2     0.129903\n",
      "xr_5     0.015422\n",
      "xr_7    -0.007117\n",
      "xr_10   -0.063203\n",
      "dtype: float64\n",
      "ew : -0.3043705825884151\n",
      "dw : -0.3043826012219346\n"
     ]
    }
   ],
   "source": [
    "ridge_1 = Machine(SL, y, 'Penalized', option='ridge', params_grid=param_grid_ridge, burn_in_start=bs, burn_in_end=be, period=p)\n",
    "ridge_1.training()\n",
    "ridge_2 = Machine(CP, y, 'Penalized', option='ridge', params_grid=param_grid_ridge, burn_in_start=bs, burn_in_end=be, period=p)\n",
    "ridge_2.training()\n",
    "ridge_3 = Machine(F6, y, 'Penalized', option='ridge', params_grid=param_grid_ridge, burn_in_start=bs, burn_in_end=be, period=p)\n",
    "ridge_3.training()\n",
    "\n",
    "\n",
    "print(ridge_1.R2OOS())\n",
    "print('ew :', ridge_1.r2_oos_portfolio())\n",
    "print('dw :', ridge_1.r2_oos_portfolio(cols = cols_dw, weights=w_custom))\n",
    "\n",
    "print(ridge_2.R2OOS())\n",
    "print('ew :', ridge_2.r2_oos_portfolio())\n",
    "print('dw :', ridge_2.r2_oos_portfolio(cols = cols_dw, weights=w_custom))\n",
    "\n",
    "print(ridge_3.R2OOS())\n",
    "print('ew :', ridge_3.r2_oos_portfolio())\n",
    "print('dw :', ridge_3.r2_oos_portfolio(cols = cols_dw, weights=w_custom))"
   ]
  },
  {
   "cell_type": "code",
   "execution_count": 6,
   "metadata": {},
   "outputs": [
    {
     "name": "stderr",
     "output_type": "stream",
     "text": [
      "Penalized rolling: 100%|██████████| 121/121 [00:04<00:00, 28.72it/s]\n",
      "Penalized rolling: 100%|██████████| 121/121 [00:03<00:00, 35.62it/s]\n",
      "Penalized rolling: 100%|██████████| 121/121 [00:05<00:00, 23.58it/s]\n"
     ]
    },
    {
     "name": "stdout",
     "output_type": "stream",
     "text": [
      "xr_2    -0.115269\n",
      "xr_5    -0.119344\n",
      "xr_7    -0.125970\n",
      "xr_10   -0.108778\n",
      "dtype: float64\n",
      "ew : -0.4353839782680553\n",
      "dw : -0.4092279675171291\n",
      "xr_2     0.102771\n",
      "xr_5     0.286915\n",
      "xr_7     0.367042\n",
      "xr_10    0.400906\n",
      "dtype: float64\n",
      "ew : 0.17076392645819138\n",
      "dw : 0.21020914770331667\n",
      "xr_2    -0.115200\n",
      "xr_5    -0.066707\n",
      "xr_7    -0.053323\n",
      "xr_10   -0.060733\n",
      "dtype: float64\n",
      "ew : -0.3614514381711533\n",
      "dw : -0.3376030652615776\n"
     ]
    }
   ],
   "source": [
    "lasso_1 = Machine(SL, y, 'Penalized', option='lasso', params_grid=param_grid_lasso, burn_in_start=bs, burn_in_end=be, period=p)\n",
    "lasso_1.training()\n",
    "lasso_2 = Machine(CP, y, 'Penalized', option='lasso', params_grid=param_grid_lasso, burn_in_start=bs, burn_in_end=be, period=p)\n",
    "lasso_2.training()\n",
    "lasso_3 = Machine(F6, y, 'Penalized', option='lasso', params_grid=param_grid_lasso, burn_in_start=bs, burn_in_end=be, period=p)\n",
    "lasso_3.training()\n",
    "\n",
    "\n",
    "print(lasso_1.R2OOS())\n",
    "print('ew :', lasso_1.r2_oos_portfolio())\n",
    "print('dw :', lasso_1.r2_oos_portfolio(cols = cols_dw, weights=w_custom))\n",
    "\n",
    "print(lasso_2.R2OOS())\n",
    "print('ew :', lasso_2.r2_oos_portfolio())\n",
    "print('dw :', lasso_2.r2_oos_portfolio(cols = cols_dw, weights=w_custom))\n",
    "\n",
    "print(lasso_3.R2OOS())\n",
    "print('ew :', lasso_3.r2_oos_portfolio())\n",
    "print('dw :', lasso_3.r2_oos_portfolio(cols = cols_dw, weights=w_custom))"
   ]
  },
  {
   "cell_type": "code",
   "execution_count": 14,
   "metadata": {},
   "outputs": [
    {
     "name": "stderr",
     "output_type": "stream",
     "text": [
      "Penalized rolling: 100%|██████████| 121/121 [00:07<00:00, 15.97it/s]\n",
      "Penalized rolling: 100%|██████████| 121/121 [00:03<00:00, 31.72it/s]\n",
      "Penalized rolling: 100%|██████████| 121/121 [00:03<00:00, 31.57it/s]\n"
     ]
    },
    {
     "name": "stdout",
     "output_type": "stream",
     "text": [
      "xr_2    -0.119808\n",
      "xr_5    -0.111691\n",
      "xr_7    -0.107971\n",
      "xr_10   -0.097341\n",
      "dtype: float64\n",
      "ew : -0.4190304742965012\n",
      "dw : -0.39277647581880504\n",
      "xr_2     0.113601\n",
      "xr_5     0.250681\n",
      "xr_7     0.308855\n",
      "xr_10    0.339233\n",
      "dtype: float64\n",
      "ew : 0.10356794382127033\n",
      "dw : 0.1384303579607522\n",
      "xr_2    -0.099949\n",
      "xr_5    -0.075463\n",
      "xr_7    -0.071361\n",
      "xr_10   -0.069186\n",
      "dtype: float64\n",
      "ew : -0.3762447561384574\n",
      "dw : -0.352176868684263\n"
     ]
    }
   ],
   "source": [
    "elasticnet_1 = Machine(SL, y, 'Penalized', option='elasticnet', params_grid=param_grid_elasticnet, burn_in_start=bs, burn_in_end=be, period=p)\n",
    "elasticnet_1.training()\n",
    "\n",
    "elasticnet_2 = Machine(CP, y, 'Penalized', option='elasticnet', params_grid=param_grid_elasticnet, burn_in_start=bs, burn_in_end=be, period=p)\n",
    "elasticnet_2.training()\n",
    "\n",
    "elasticnet_3 = Machine(F6, y, 'Penalized', option='elasticnet', params_grid=param_grid_elasticnet, burn_in_start=bs, burn_in_end=be, period=p)\n",
    "elasticnet_3.training()\n",
    "\n",
    "\n",
    "print(elasticnet_1.R2OOS())\n",
    "print('ew :', elasticnet_1.r2_oos_portfolio())\n",
    "print('dw :', elasticnet_1.r2_oos_portfolio(cols = cols_dw, weights=w_custom))\n",
    "\n",
    "print(elasticnet_2.R2OOS())\n",
    "print('ew :', elasticnet_2.r2_oos_portfolio())\n",
    "print('dw :', elasticnet_2.r2_oos_portfolio(cols = cols_dw, weights=w_custom))\n",
    "\n",
    "print(elasticnet_3.R2OOS())\n",
    "print('ew :', elasticnet_3.r2_oos_portfolio())\n",
    "print('dw :', elasticnet_3.r2_oos_portfolio(cols = cols_dw, weights=w_custom))"
   ]
  },
  {
   "cell_type": "markdown",
   "metadata": {},
   "source": [
    "### Tree"
   ]
  },
  {
   "cell_type": "code",
   "execution_count": 8,
   "metadata": {},
   "outputs": [
    {
     "name": "stderr",
     "output_type": "stream",
     "text": [
      "Tree rolling:   0%|          | 0/121 [00:00<?, ?it/s]"
     ]
    },
    {
     "name": "stderr",
     "output_type": "stream",
     "text": [
      "Tree rolling: 100%|██████████| 121/121 [49:00<00:00, 24.30s/it]\n",
      "Tree rolling: 100%|██████████| 121/121 [40:05<00:00, 19.88s/it]\n",
      "Tree rolling: 100%|██████████| 121/121 [39:53<00:00, 19.79s/it]\n"
     ]
    },
    {
     "name": "stdout",
     "output_type": "stream",
     "text": [
      "xr_2    -0.201347\n",
      "xr_5    -0.205012\n",
      "xr_7    -0.206031\n",
      "xr_10   -0.198196\n",
      "dtype: float64\n",
      "ew : -0.5435836440223256\n",
      "dw : -0.5174042371163725\n",
      "xr_2     0.087766\n",
      "xr_5     0.264077\n",
      "xr_7     0.316162\n",
      "xr_10    0.335771\n",
      "dtype: float64\n",
      "ew : 0.11065546727331244\n",
      "dw : 0.14224115948520144\n",
      "xr_2    -0.122676\n",
      "xr_5    -0.164948\n",
      "xr_7    -0.165331\n",
      "xr_10   -0.178941\n",
      "dtype: float64\n",
      "ew : -0.49846906998514395\n",
      "dw : -0.4797381627010924\n"
     ]
    }
   ],
   "source": [
    "rf_1 = Machine(SL, y, 'Tree', option = 'RandomForest', params_grid=param_grid_rf, burn_in_start=bs, burn_in_end=be, period=p)\n",
    "rf_1.training()\n",
    "rf_2 = Machine(CP, y, 'Tree', option = 'RandomForest', params_grid=param_grid_rf, burn_in_start=bs, burn_in_end=be, period=p)\n",
    "rf_2.training()\n",
    "rf_3 = Machine(F6, y, 'Tree', option = 'RandomForest', params_grid=param_grid_rf, burn_in_start=bs, burn_in_end=be, period=p)\n",
    "rf_3.training()\n",
    "\n",
    "print(rf_1.R2OOS())\n",
    "print('ew :', rf_1.r2_oos_portfolio())\n",
    "print('dw :', rf_1.r2_oos_portfolio(cols = cols_dw, weights=w_custom))\n",
    "\n",
    "print(rf_2.R2OOS())\n",
    "print('ew :', rf_2.r2_oos_portfolio())\n",
    "print('dw :', rf_2.r2_oos_portfolio(cols = cols_dw, weights=w_custom))\n",
    "\n",
    "print(rf_3.R2OOS())\n",
    "print('ew :', rf_3.r2_oos_portfolio())\n",
    "print('dw :', rf_3.r2_oos_portfolio(cols = cols_dw, weights=w_custom))"
   ]
  },
  {
   "cell_type": "code",
   "execution_count": 9,
   "metadata": {},
   "outputs": [
    {
     "name": "stderr",
     "output_type": "stream",
     "text": [
      "Tree rolling: 100%|██████████| 121/121 [25:25<00:00, 12.61s/it]\n",
      "Tree rolling: 100%|██████████| 121/121 [24:44<00:00, 12.27s/it]\n",
      "Tree rolling: 100%|██████████| 121/121 [25:47<00:00, 12.79s/it]\n"
     ]
    },
    {
     "name": "stdout",
     "output_type": "stream",
     "text": [
      "xr_2    -0.163622\n",
      "xr_5    -0.137096\n",
      "xr_7    -0.123843\n",
      "xr_10   -0.103781\n",
      "dtype: float64\n",
      "ew : -0.4392612728112901\n",
      "dw : -0.4082498488035098\n",
      "xr_2     0.066703\n",
      "xr_5     0.162794\n",
      "xr_7     0.199502\n",
      "xr_10    0.219397\n",
      "dtype: float64\n",
      "ew : -0.029442169616374914\n",
      "dw : -0.0015884337688232275\n",
      "xr_2    -0.117862\n",
      "xr_5    -0.102298\n",
      "xr_7    -0.095463\n",
      "xr_10   -0.095555\n",
      "dtype: float64\n",
      "ew : -0.4088743909896808\n",
      "dw : -0.3846656460451554\n"
     ]
    }
   ],
   "source": [
    "et_1 = Machine(SL, y, 'Tree', option='ExtremeTrees', params_grid=param_grid_et, burn_in_start=bs, burn_in_end=be, period=p)\n",
    "et_1.training()\n",
    "et_2 = Machine(CP, y, 'Tree', option='ExtremeTrees', params_grid=param_grid_et, burn_in_start=bs, burn_in_end=be, period=p)\n",
    "et_2.training()\n",
    "et_3 = Machine(F6, y, 'Tree', option='ExtremeTrees', params_grid=param_grid_et, burn_in_start=bs, burn_in_end=be, period=p)\n",
    "et_3.training()\n",
    "\n",
    "\n",
    "print(et_1.R2OOS())\n",
    "print('ew :', et_1.r2_oos_portfolio()) \n",
    "print('dw :', et_1.r2_oos_portfolio(cols = cols_dw, weights=w_custom))\n",
    "\n",
    "print(et_2.R2OOS())\n",
    "print('ew :', et_2.r2_oos_portfolio())\n",
    "print('dw :', et_2.r2_oos_portfolio(cols = cols_dw, weights=w_custom))\n",
    "\n",
    "print(et_3.R2OOS())\n",
    "print('ew :', et_3.r2_oos_portfolio())\n",
    "print('dw :', et_3.r2_oos_portfolio(cols = cols_dw, weights=w_custom))\n"
   ]
  },
  {
   "cell_type": "code",
   "execution_count": 13,
   "metadata": {},
   "outputs": [
    {
     "name": "stderr",
     "output_type": "stream",
     "text": [
      "Tree rolling: 100%|██████████| 121/121 [02:05<00:00,  1.03s/it]\n",
      "Tree rolling: 100%|██████████| 121/121 [01:35<00:00,  1.27it/s]\n",
      "Tree rolling: 100%|██████████| 121/121 [01:42<00:00,  1.18it/s]\n"
     ]
    },
    {
     "name": "stdout",
     "output_type": "stream",
     "text": [
      "xr_2    -0.176964\n",
      "xr_5    -0.186073\n",
      "xr_7    -0.187343\n",
      "xr_10   -0.164957\n",
      "dtype: float64\n",
      "ew : -0.5116631799784046\n",
      "dw : -0.4834552668241541\n",
      "xr_2     0.068261\n",
      "xr_5     0.213247\n",
      "xr_7     0.267132\n",
      "xr_10    0.286898\n",
      "dtype: float64\n",
      "ew : 0.04772089588124995\n",
      "dw : 0.07973668586466864\n",
      "xr_2    -0.138475\n",
      "xr_5    -0.204236\n",
      "xr_7    -0.216286\n",
      "xr_10   -0.243562\n",
      "dtype: float64\n",
      "ew : -0.5639841520413531\n",
      "dw : -0.5502500453830896\n"
     ]
    }
   ],
   "source": [
    "xgb_1 = Machine(SL, y, 'Tree', option='XGB', params_grid=param_grid_xgb, burn_in_start=bs, burn_in_end=be, period=p)\n",
    "xgb_1.training()\n",
    "xgb_2 = Machine(CP, y, 'Tree', option='XGB', params_grid=param_grid_xgb, burn_in_start=bs, burn_in_end=be, period=p)\n",
    "xgb_2.training()\n",
    "xgb_3 = Machine(F6, y, 'Tree', option='XGB', params_grid=param_grid_xgb, burn_in_start=bs, burn_in_end=be, period=p)\n",
    "xgb_3.training()\n",
    "\n",
    "print(xgb_1.R2OOS())\n",
    "print('ew :', xgb_1.r2_oos_portfolio())\n",
    "print('dw :', xgb_1.r2_oos_portfolio(cols = cols_dw, weights=w_custom))\n",
    "\n",
    "print(xgb_2.R2OOS())\n",
    "print('ew :', xgb_2.r2_oos_portfolio())\n",
    "print('dw :', xgb_2.r2_oos_portfolio(cols = cols_dw, weights=w_custom))\n",
    "\n",
    "print(xgb_3.R2OOS())\n",
    "print('ew :', xgb_3.r2_oos_portfolio())\n",
    "print('dw :', xgb_3.r2_oos_portfolio(cols = cols_dw, weights=w_custom))"
   ]
  },
  {
   "cell_type": "markdown",
   "metadata": {},
   "source": [
    "### DNN : FWDs ONly"
   ]
  },
  {
   "cell_type": "code",
   "execution_count": null,
   "metadata": {},
   "outputs": [],
   "source": [
    "param_grid = {\n",
    "    \"dnn__module__hidden\": [(3,)],    \n",
    "    \"dnn__module__dropout\": [0.2],\n",
    "    \"dnn__lr\": [0.01],\n",
    "    \"dnn__optimizer__weight_decay\": [0.0005],\n",
    "}\n",
    "\n",
    "dnn_1 = Machine(\n",
    "    FWDS, y,\n",
    "    model_type=\"DNN\",                  \n",
    "    params_grid=param_grid,\n",
    "    burn_in_start=bs,\n",
    "    burn_in_end=be,\n",
    "    period=p,\n",
    "    forecast_horizon=12,\n",
    "    random_state=15\n",
    ")\n",
    "dnn_1.training()\n",
    "print(dnn_1.R2OOS())\n",
    "print('ew :', dnn_1.r2_oos_portfolio())\n",
    "print('dw :', dnn_1.r2_oos_portfolio(cols = cols_dw, weights=w_custom))\n"
   ]
  },
  {
   "cell_type": "markdown",
   "metadata": {},
   "source": [
    "### DNN : FWDS + MACRO"
   ]
  },
  {
   "cell_type": "code",
   "execution_count": null,
   "metadata": {},
   "outputs": [],
   "source": [
    "param_grid = {\n",
    "    \"dnn__module__hidden\": [(3,3)],    \n",
    "    \"dnn__module__dropout\": [0.2],\n",
    "    \"dnn__lr\": [0.01],\n",
    "    \"dnn__optimizer__weight_decay\": [0.0005],\n",
    "}\n",
    "\n",
    "dnn_2 = Machine(\n",
    "    FWDS, y,\n",
    "    model_type=\"DNN\",                  \n",
    "    params_grid=param_grid,\n",
    "    burn_in_start=bs,\n",
    "    burn_in_end=be,\n",
    "    period=p,\n",
    "    forecast_horizon=12,\n",
    "    random_state=15\n",
    ")\n",
    "dnn_2.training()\n",
    "print(dnn_2.R2OOS())\n",
    "print('ew :', dnn_2.r2_oos_portfolio())\n",
    "print('dw :', dnn_2.r2_oos_portfolio(cols = cols_dw, weights=w_custom))\n"
   ]
  },
  {
   "cell_type": "code",
   "execution_count": null,
   "metadata": {},
   "outputs": [],
   "source": [
    "AGG = pd.concat([MACV, CP], axis=1)\n",
    "\n",
    "# ── 예시: dual-branch MLP 하이퍼파라미터 그리드 ─────────────────────────\n",
    "param_grid = {\n",
    "    # ── Branch-1 Macro\n",
    "    \"dnn__module__hidden1\": [(32,)],    # 얕은 vs. 두 층\n",
    "    \"dnn__module__drop1\":   [0.2],       # 드롭아웃 비율\n",
    "\n",
    "    # ── Branch-2 FWDS : CP\n",
    "    \"dnn__module__hidden2\": [(1)],\n",
    "    \"dnn__module__drop2\":   [0.2],\n",
    "\n",
    "    # ── 공통 optimizer & regularization ────────────────────────────────\n",
    "    \"dnn__optimizer__lr\":           [0.001],\n",
    "    \"dnn__optimizer__weight_decay\": [0.0005]\n",
    "}\n",
    "\n",
    "grp1_cols = [c for c in AGG.columns if c.startswith(\"F\")]\n",
    "grp2_cols = [c for c in AGG.columns if c not in grp1_cols]\n",
    "\n",
    "dnn_d1 = Machine(\n",
    "    AGG, y,\n",
    "    model_type=\"DNN_DUAL\",\n",
    "    option={\"grp1\": grp1_cols, \"grp2\": grp2_cols},\n",
    "    params_grid=param_grid,\n",
    "    burn_in_start=bs,\n",
    "    burn_in_end=be,\n",
    "    period=p,\n",
    "    forecast_horizon=12\n",
    ")\n",
    "dnn_d1.training()\n",
    "print(dnn_d1.R2OOS())"
   ]
  },
  {
   "cell_type": "code",
   "execution_count": null,
   "metadata": {},
   "outputs": [],
   "source": [
    "AGG2 = pd.concat([MACV, FWDS], axis=1)\n",
    "\n",
    "# ── 예시: dual-branch MLP 하이퍼파라미터 그리드 ─────────────────────────\n",
    "param_grid = {\n",
    "    # ── Branch-1 Macro\n",
    "    \"dnn__module__hidden1\": [(32,)],    # 얕은 vs. 두 층\n",
    "    \"dnn__module__drop1\":   [0.2],       # 드롭아웃 비율\n",
    "\n",
    "    # ── Branch-2 FWDS : CP\n",
    "    \"dnn__module__hidden2\": [(3,3)],\n",
    "    \"dnn__module__drop2\":   [0.2],\n",
    "\n",
    "    # ── 공통 optimizer & regularization ────────────────────────────────\n",
    "    \"dnn__optimizer__lr\":           [0.001],\n",
    "    \"dnn__optimizer__weight_decay\": [0.0005]\n",
    "}\n",
    "\n",
    "grp1_cols = [c for c in AGG.columns if c.startswith(\"F\")]\n",
    "grp2_cols = [c for c in AGG.columns if c not in grp1_cols]\n",
    "\n",
    "dnn_d2 = Machine(\n",
    "    AGG2, y,\n",
    "    model_type=\"DNN_DUAL\",\n",
    "    option={\"grp1\": grp1_cols, \"grp2\": grp2_cols},\n",
    "    burn_in_start=bs,\n",
    "    burn_in_end=be,\n",
    "    period=p,\n",
    "    params_grid=param_grid,\n",
    "    forecast_horizon=12\n",
    ")\n",
    "dnn_d2.training()\n",
    "print(dnn_d2.R2OOS())"
   ]
  }
 ],
 "metadata": {
  "kernelspec": {
   "display_name": "Python 3",
   "language": "python",
   "name": "python3"
  },
  "language_info": {
   "codemirror_mode": {
    "name": "ipython",
    "version": 3
   },
   "file_extension": ".py",
   "mimetype": "text/x-python",
   "name": "python",
   "nbconvert_exporter": "python",
   "pygments_lexer": "ipython3",
   "version": "3.9.6"
  }
 },
 "nbformat": 4,
 "nbformat_minor": 4
}

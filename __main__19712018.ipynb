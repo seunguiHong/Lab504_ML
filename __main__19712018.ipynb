{
 "cells": [
  {
   "cell_type": "code",
   "execution_count": 24,
   "metadata": {},
   "outputs": [],
   "source": [
    "import pandas as pd, numpy as np\n",
    "from rolling_framework import Machine\n",
    "\n",
    "import warnings\n",
    "warnings.filterwarnings('ignore')"
   ]
  },
  {
   "cell_type": "markdown",
   "metadata": {},
   "source": [
    "### Data Loading"
   ]
  },
  {
   "cell_type": "code",
   "execution_count": 25,
   "metadata": {},
   "outputs": [],
   "source": [
    "period = '19712018'\n",
    "\n",
    "#%% Target variables : excess returns\n",
    "y = pd.read_csv(f'data/{period}/exrets_{period}.csv', index_col='Time')             # Target : Excess Return (Bond Risk Premia)\n",
    "y = y[['xr_2','xr_5','xr_7','xr_10']]\n",
    "\n",
    "#%% Predictors (Features)\n",
    "FWDS = pd.read_csv(f'data/{period}/fwds_{period}.csv', index_col='Time')            # Forward Rates\n",
    "MACV = pd.read_csv(f'data/{period}/MacroFactors_{period}.csv', index_col='Time')    # Ludvigson and Ng (2009), Macrovariables\n",
    "LSC = pd.read_csv(f'data/{period}/lsc_{period}.csv', index_col='Time')              # Level, Slope and Curvature\n",
    "# YLV = pd.read_csv(f'data/{period}/yl_{period}.csv', index_col='Time')               # yield-level\n",
    "RVOL = pd.read_csv(f'data/{period}/real_vol_{period}.csv', index_col='Time')        # Realised Volatility 10yr\n",
    "#IVOL = pd.read_csv(f'data/{period}/imp_vol_{period}.csv', index_col='Time')        # Implied Volatility (Work for 1990~)\n",
    "CP = pd.read_csv(f'data/{period}/cp_{period}.csv', index_col='Time')                # Cochrane-Piazessi Factor\n",
    "# YALL = pd.read_csv(f'data/{period}/yl_all_{period}.csv', index_col='Time')          # 12 m, 24 m, ... 120 m\n",
    "# YMAX = pd.read_csv(f'data/{period}/yl_max_{period}.csv', index_col='Time')          # 1m ... 120 m\n",
    "\n",
    "F6 = MACV[['F1','F2','F3','F4','F8','F1^3']]\n",
    "SL = LSC[['slope']]\n",
    "LV = LSC[['level']]\n",
    "CU = LSC[['curvature']]\n",
    "\n",
    "\n",
    "AGG = pd.concat([CP, FWDS], axis=1)"
   ]
  },
  {
   "cell_type": "code",
   "execution_count": 40,
   "metadata": {},
   "outputs": [],
   "source": [
    "# ────────────────────────────\n",
    "# Random-Forest\n",
    "# ────────────────────────────\n",
    "param_grid_rf = {\n",
    "    \"model__estimator__n_estimators\":      [300],\n",
    "    \"model__estimator__max_depth\":         [2, 8],\n",
    "    \"model__estimator__min_samples_split\": [2, 4],\n",
    "    \"model__estimator__min_samples_leaf\":  [1, 2, 4],\n",
    "    \"model__estimator__max_features\":      [0.25, 0.5,1],\n",
    "}\n",
    "\n",
    "# ────────────────────────────\n",
    "# Extra-Trees\n",
    "# ────────────────────────────\n",
    "param_grid_et = {\n",
    "    \"model__estimator__n_estimators\":      [300],\n",
    "    \"model__estimator__max_depth\":         [2, 8],\n",
    "    \"model__estimator__min_samples_split\": [2, 4],\n",
    "    \"model__estimator__min_samples_leaf\":  [1, 2, 4],\n",
    "    \"model__estimator__max_features\":      [0.25, 0.5, 1],\n",
    "}\n",
    "\n",
    "# ────────────────────────────\n",
    "# XGBoost  (XGBRegressor 사용 가정)\n",
    "# ────────────────────────────\n",
    "param_grid_xgb = {\n",
    "    \"model__estimator__n_estimators\":  [300],\n",
    "    \"model__estimator__max_depth\":     [2, 4],\n",
    "    \"model__estimator__learning_rate\": [0.01],\n",
    "    \"model__estimator__subsample\":     [0.7, 0.5],\n",
    "    \"model__estimator__reg_lambda\":    [0.1, 1.0],\n",
    "}\n",
    "\n",
    "param_grid_lasso = {'reg__alpha': [0.001, 1.0 ]}    \n",
    "param_grid_ridge      = {'reg__alpha': [0.001, 10]}\n",
    "param_grid_elasticnet = {\n",
    "    'reg__alpha':   [0.01, 0.1, 1, 10],\n",
    "    'reg__l1_ratio':[0.1, 0.3, 0.5],\n",
    "}"
   ]
  },
  {
   "cell_type": "code",
   "execution_count": 4,
   "metadata": {},
   "outputs": [],
   "source": [
    "w_custom = pd.Series(\n",
    "    {\n",
    "        \"xr_2\" : 2,   # 2Y 듀레이션\n",
    "        \"xr_5\" : 5,   # 5Y 듀레이션\n",
    "        \"xr_7\" : 7,   # 7Y 듀레이션\n",
    "        \"xr_10\": 10,   # 10Y 듀레이션\n",
    "    },\n",
    "    name=\"w\"\n",
    ")\n",
    "\n",
    "cols_dw = w_custom.index.tolist()\n",
    "# 합이 1이 되도록 정규화\n",
    "w_custom = w_custom / w_custom.sum()\n"
   ]
  },
  {
   "cell_type": "markdown",
   "metadata": {},
   "source": [
    "### OLS, LASSO, ELASTICNET"
   ]
  },
  {
   "cell_type": "code",
   "execution_count": 5,
   "metadata": {},
   "outputs": [
    {
     "name": "stderr",
     "output_type": "stream",
     "text": [
      "OLS rolling: 100%|██████████| 360/360 [00:09<00:00, 36.97it/s]\n",
      "OLS rolling: 100%|██████████| 360/360 [00:05<00:00, 60.54it/s]\n",
      "OLS rolling: 100%|██████████| 360/360 [00:05<00:00, 61.16it/s]\n"
     ]
    },
    {
     "name": "stdout",
     "output_type": "stream",
     "text": [
      "xr_2    -0.123412\n",
      "xr_5     0.001880\n",
      "xr_7     0.058773\n",
      "xr_10    0.143233\n",
      "dtype: float64\n",
      "ew : -0.06423556982957912\n",
      "dw : -0.04582135336419335\n",
      "xr_2    -0.087916\n",
      "xr_5     0.024065\n",
      "xr_7     0.053338\n",
      "xr_10    0.090852\n",
      "dtype: float64\n",
      "ew : -0.07648799417278496\n",
      "dw : -0.07404469980017625\n",
      "xr_2    -0.234431\n",
      "xr_5     0.030841\n",
      "xr_7     0.054242\n",
      "xr_10    0.113406\n",
      "dtype: float64\n",
      "ew : -0.06845732307782759\n",
      "dw : -0.05709454329788777\n"
     ]
    }
   ],
   "source": [
    "ols_1 = Machine(SL, y, 'OLS')\n",
    "ols_1.training()\n",
    "ols_2 = Machine(CP,y, 'OLS')\n",
    "ols_2.training()\n",
    "ols_3 = Machine(F6, y, 'OLS')\n",
    "ols_3.training()\n",
    "\n",
    "print(ols_1.R2OOS())\n",
    "print('ew :', ols_1.r2_oos_portfolio())\n",
    "print('dw :', ols_1.r2_oos_portfolio(cols = cols_dw, weights=w_custom))\n",
    "\n",
    "print(ols_2.R2OOS())\n",
    "print('ew :', ols_2.r2_oos_portfolio())\n",
    "print('dw :', ols_2.r2_oos_portfolio(cols = cols_dw, weights=w_custom))\n",
    "\n",
    "print(ols_3.R2OOS())\n",
    "print('ew :', ols_3.r2_oos_portfolio())\n",
    "print('dw :', ols_3.r2_oos_portfolio(cols = cols_dw, weights=w_custom))"
   ]
  },
  {
   "cell_type": "code",
   "execution_count": 41,
   "metadata": {},
   "outputs": [
    {
     "name": "stderr",
     "output_type": "stream",
     "text": [
      "Penalized rolling: 100%|██████████| 360/360 [00:06<00:00, 58.09it/s]\n",
      "Penalized rolling: 100%|██████████| 360/360 [00:06<00:00, 59.90it/s]\n",
      "Penalized rolling: 100%|██████████| 360/360 [00:06<00:00, 59.85it/s]\n"
     ]
    },
    {
     "name": "stdout",
     "output_type": "stream",
     "text": [
      "xr_2    -0.123884\n",
      "xr_5     0.001005\n",
      "xr_7     0.058244\n",
      "xr_10    0.143068\n",
      "dtype: float64\n",
      "ew : -0.06487456680729875\n",
      "dw : -0.046331078179065344\n",
      "xr_2    -0.082743\n",
      "xr_5     0.028335\n",
      "xr_7     0.058308\n",
      "xr_10    0.095801\n",
      "dtype: float64\n",
      "ew : -0.07069507783680873\n",
      "dw : -0.0682626818669958\n",
      "xr_2    -0.220154\n",
      "xr_5     0.034766\n",
      "xr_7     0.060617\n",
      "xr_10    0.118650\n",
      "dtype: float64\n",
      "ew : -0.06159499411048608\n",
      "dw : -0.05060802281011023\n"
     ]
    }
   ],
   "source": [
    "ridge_1 = Machine(SL, y, 'Penalized', option='ridge', params_grid=param_grid_ridge)\n",
    "ridge_1.training()\n",
    "ridge_2 = Machine(CP, y, 'Penalized', option='ridge', params_grid=param_grid_ridge)\n",
    "ridge_2.training()\n",
    "ridge_3 = Machine(F6, y, 'Penalized', option='ridge', params_grid=param_grid_ridge)\n",
    "ridge_3.training()\n",
    "\n",
    "\n",
    "print(ridge_1.R2OOS())\n",
    "print('ew :', ridge_1.r2_oos_portfolio())\n",
    "print('dw :', ridge_1.r2_oos_portfolio(cols = cols_dw, weights=w_custom))\n",
    "\n",
    "print(ridge_2.R2OOS())\n",
    "print('ew :', ridge_2.r2_oos_portfolio())\n",
    "print('dw :', ridge_2.r2_oos_portfolio(cols = cols_dw, weights=w_custom))\n",
    "\n",
    "print(ridge_3.R2OOS())\n",
    "print('ew :', ridge_3.r2_oos_portfolio())\n",
    "print('dw :', ridge_3.r2_oos_portfolio(cols = cols_dw, weights=w_custom))"
   ]
  },
  {
   "cell_type": "code",
   "execution_count": 9,
   "metadata": {},
   "outputs": [
    {
     "name": "stderr",
     "output_type": "stream",
     "text": [
      "Penalized rolling: 100%|██████████| 360/360 [00:06<00:00, 57.24it/s]\n",
      "Penalized rolling: 100%|██████████| 360/360 [00:06<00:00, 58.02it/s]\n",
      "Penalized rolling: 100%|██████████| 360/360 [00:06<00:00, 57.37it/s]\n"
     ]
    },
    {
     "name": "stdout",
     "output_type": "stream",
     "text": [
      "xr_2    -0.181314\n",
      "xr_5    -0.074675\n",
      "xr_7     0.023785\n",
      "xr_10    0.129010\n",
      "dtype: float64\n",
      "ew : -0.10432153991969217\n",
      "dw : -0.07787138039489383\n",
      "xr_2    -0.020068\n",
      "xr_5     0.039852\n",
      "xr_7     0.068974\n",
      "xr_10    0.104184\n",
      "dtype: float64\n",
      "ew : -0.05326590134866649\n",
      "dw : -0.05494517411991784\n",
      "xr_2    -0.398807\n",
      "xr_5    -0.077570\n",
      "xr_7    -0.006363\n",
      "xr_10    0.061337\n",
      "dtype: float64\n",
      "ew : -0.15487192898845925\n",
      "dw : -0.1332750391015518\n"
     ]
    }
   ],
   "source": [
    "lasso_1 = Machine(SL, y, 'Penalized', option='lasso', params_grid=param_grid_lasso)\n",
    "lasso_1.training()\n",
    "lasso_2 = Machine(CP, y, 'Penalized', option='lasso', params_grid=param_grid_lasso)\n",
    "lasso_2.training()\n",
    "lasso_3 = Machine(F6, y, 'Penalized', option='lasso', params_grid=param_grid_lasso)\n",
    "lasso_3.training()\n",
    "\n",
    "\n",
    "print(lasso_1.R2OOS())\n",
    "print('ew :', lasso_1.r2_oos_portfolio())\n",
    "print('dw :', lasso_1.r2_oos_portfolio(cols = cols_dw, weights=w_custom))\n",
    "\n",
    "print(lasso_2.R2OOS())\n",
    "print('ew :', lasso_2.r2_oos_portfolio())\n",
    "print('dw :', lasso_2.r2_oos_portfolio(cols = cols_dw, weights=w_custom))\n",
    "\n",
    "print(lasso_3.R2OOS())\n",
    "print('ew :', lasso_3.r2_oos_portfolio())\n",
    "print('dw :', lasso_3.r2_oos_portfolio(cols = cols_dw, weights=w_custom))"
   ]
  },
  {
   "cell_type": "code",
   "execution_count": 14,
   "metadata": {},
   "outputs": [
    {
     "name": "stderr",
     "output_type": "stream",
     "text": [
      "Penalized rolling: 100%|██████████| 360/360 [00:13<00:00, 27.03it/s]\n",
      "Penalized rolling: 100%|██████████| 360/360 [00:11<00:00, 31.66it/s]\n",
      "Penalized rolling: 100%|██████████| 360/360 [00:11<00:00, 30.52it/s]\n"
     ]
    },
    {
     "name": "stdout",
     "output_type": "stream",
     "text": [
      "xr_2    -0.175665\n",
      "xr_5    -0.089630\n",
      "xr_7    -0.028150\n",
      "xr_10    0.063809\n",
      "dtype: float64\n",
      "ew : -0.1658429596938562\n",
      "dw : -0.14602176236112752\n",
      "xr_2    -0.049290\n",
      "xr_5     0.019847\n",
      "xr_7     0.053159\n",
      "xr_10    0.098711\n",
      "dtype: float64\n",
      "ew : -0.07074550033640814\n",
      "dw : -0.06899130940175424\n",
      "xr_2    -0.234712\n",
      "xr_5    -0.089215\n",
      "xr_7    -0.054463\n",
      "xr_10   -0.005559\n",
      "dtype: float64\n",
      "ew : -0.20162131707054187\n",
      "dw : -0.19458831277632793\n"
     ]
    }
   ],
   "source": [
    "elasticnet_1 = Machine(SL, y, 'Penalized', option='elasticnet', params_grid=param_grid_elasticnet)\n",
    "elasticnet_1.training()\n",
    "\n",
    "elasticnet_2 = Machine(CP, y, 'Penalized', option='elasticnet', params_grid=param_grid_elasticnet)\n",
    "elasticnet_2.training()\n",
    "\n",
    "elasticnet_3 = Machine(F6, y, 'Penalized', option='elasticnet', params_grid=param_grid_elasticnet)\n",
    "elasticnet_3.training()\n",
    "\n",
    "\n",
    "print(elasticnet_1.R2OOS())\n",
    "print('ew :', elasticnet_1.r2_oos_portfolio())\n",
    "print('dw :', elasticnet_1.r2_oos_portfolio(cols = cols_dw, weights=w_custom))\n",
    "\n",
    "print(elasticnet_2.R2OOS())\n",
    "print('ew :', elasticnet_2.r2_oos_portfolio())\n",
    "print('dw :', elasticnet_2.r2_oos_portfolio(cols = cols_dw, weights=w_custom))\n",
    "\n",
    "print(elasticnet_3.R2OOS())\n",
    "print('ew :', elasticnet_3.r2_oos_portfolio())\n",
    "print('dw :', elasticnet_3.r2_oos_portfolio(cols = cols_dw, weights=w_custom))"
   ]
  },
  {
   "cell_type": "markdown",
   "metadata": {},
   "source": [
    "### Tree"
   ]
  },
  {
   "cell_type": "code",
   "execution_count": 21,
   "metadata": {},
   "outputs": [
    {
     "name": "stderr",
     "output_type": "stream",
     "text": [
      "Tree rolling: 100%|██████████| 360/360 [1:05:11<00:00, 10.87s/it]\n",
      "Tree rolling: 100%|██████████| 360/360 [1:13:59<00:00, 12.33s/it]\n",
      "Tree rolling: 100%|██████████| 360/360 [1:16:14<00:00, 12.71s/it]\n"
     ]
    },
    {
     "name": "stdout",
     "output_type": "stream",
     "text": [
      "xr_2    -0.322312\n",
      "xr_5    -0.194365\n",
      "xr_7    -0.143179\n",
      "xr_10   -0.086767\n",
      "dtype: float64\n",
      "ew : -0.30853092732177645\n",
      "dw : -0.29695440848991783\n",
      "xr_2    -0.291911\n",
      "xr_5    -0.153129\n",
      "xr_7    -0.158045\n",
      "xr_10   -0.134921\n",
      "dtype: float64\n",
      "ew : -0.3218969704203005\n",
      "dw : -0.32570452297613106\n",
      "xr_2    -0.105528\n",
      "xr_5    -0.026950\n",
      "xr_7    -0.018339\n",
      "xr_10    0.016035\n",
      "dtype: float64\n",
      "ew : -0.14754431505582288\n",
      "dw : -0.15242240827704445\n"
     ]
    }
   ],
   "source": [
    "rf_1 = Machine(SL, y, 'Tree', option = 'RandomForest', params_grid=param_grid_rf)\n",
    "rf_1.training()\n",
    "rf_2 = Machine(CP, y, 'Tree', option = 'RandomForest', params_grid=param_grid_rf)\n",
    "rf_2.training()\n",
    "rf_3 = Machine(F6, y, 'Tree', option = 'RandomForest', params_grid=param_grid_rf)\n",
    "rf_3.training()\n",
    "\n",
    "print(rf_1.R2OOS())\n",
    "print('ew :', rf_1.r2_oos_portfolio())\n",
    "print('dw :', rf_1.r2_oos_portfolio(cols = cols_dw, weights=w_custom))\n",
    "\n",
    "print(rf_2.R2OOS())\n",
    "print('ew :', rf_2.r2_oos_portfolio())\n",
    "print('dw :', rf_2.r2_oos_portfolio(cols = cols_dw, weights=w_custom))\n",
    "\n",
    "print(rf_3.R2OOS())\n",
    "print('ew :', rf_3.r2_oos_portfolio())\n",
    "print('dw :', rf_3.r2_oos_portfolio(cols = cols_dw, weights=w_custom))"
   ]
  },
  {
   "cell_type": "code",
   "execution_count": 22,
   "metadata": {},
   "outputs": [
    {
     "name": "stderr",
     "output_type": "stream",
     "text": [
      "Tree rolling: 100%|██████████| 360/360 [46:17<00:00,  7.71s/it]\n",
      "Tree rolling: 100%|██████████| 360/360 [26:29<00:00,  4.41s/it]\n",
      "Tree rolling: 100%|██████████| 360/360 [26:54<00:00,  4.49s/it]\n"
     ]
    },
    {
     "name": "stdout",
     "output_type": "stream",
     "text": [
      "xr_2    -0.255686\n",
      "xr_5    -0.130337\n",
      "xr_7    -0.057983\n",
      "xr_10    0.036738\n",
      "dtype: float64\n",
      "ew : -0.2003841169562488\n",
      "dw : -0.17843241262302434\n",
      "xr_2    -0.064640\n",
      "xr_5     0.006700\n",
      "xr_7     0.031542\n",
      "xr_10    0.059722\n",
      "dtype: float64\n",
      "ew : -0.1013521608194965\n",
      "dw : -0.10393268123724053\n",
      "xr_2    -0.103369\n",
      "xr_5    -0.008458\n",
      "xr_7     0.011706\n",
      "xr_10    0.034229\n",
      "dtype: float64\n",
      "ew : -0.12481393878216607\n",
      "dw : -0.12847741190647888\n"
     ]
    }
   ],
   "source": [
    "et_1 = Machine(SL, y, 'Tree', option='ExtremeTrees', params_grid=param_grid_et)\n",
    "et_1.training()\n",
    "et_2 = Machine(CP, y, 'Tree', option='ExtremeTrees', params_grid=param_grid_et)\n",
    "et_2.training()\n",
    "et_3 = Machine(F6, y, 'Tree', option='ExtremeTrees', params_grid=param_grid_et)\n",
    "et_3.training()\n",
    "\n",
    "\n",
    "print(et_1.R2OOS())\n",
    "print('ew :', et_1.r2_oos_portfolio()) \n",
    "print('dw :', et_1.r2_oos_portfolio(cols = cols_dw, weights=w_custom))\n",
    "\n",
    "print(et_2.R2OOS())\n",
    "print('ew :', et_2.r2_oos_portfolio())\n",
    "print('dw :', et_2.r2_oos_portfolio(cols = cols_dw, weights=w_custom))\n",
    "\n",
    "print(et_3.R2OOS())\n",
    "print('ew :', et_3.r2_oos_portfolio())\n",
    "print('dw :', et_3.r2_oos_portfolio(cols = cols_dw, weights=w_custom))\n"
   ]
  },
  {
   "cell_type": "code",
   "execution_count": 30,
   "metadata": {},
   "outputs": [
    {
     "name": "stderr",
     "output_type": "stream",
     "text": [
      "Tree rolling: 100%|██████████| 360/360 [01:57<00:00,  3.07it/s]\n",
      "Tree rolling: 100%|██████████| 360/360 [02:03<00:00,  2.92it/s]\n",
      "Tree rolling: 100%|██████████| 360/360 [02:53<00:00,  2.07it/s]\n"
     ]
    },
    {
     "name": "stdout",
     "output_type": "stream",
     "text": [
      "xr_2    -0.285058\n",
      "xr_5    -0.212481\n",
      "xr_7    -0.151518\n",
      "xr_10   -0.071317\n",
      "dtype: float64\n",
      "ew : -0.30817883308055993\n",
      "dw : -0.29332815913482446\n",
      "xr_2    -0.208705\n",
      "xr_5    -0.065617\n",
      "xr_7    -0.055354\n",
      "xr_10   -0.031152\n",
      "dtype: float64\n",
      "ew : -0.2056985326144063\n",
      "dw : -0.20730080010911078\n",
      "xr_2    -0.056118\n",
      "xr_5     0.013407\n",
      "xr_7     0.011996\n",
      "xr_10    0.037086\n",
      "dtype: float64\n",
      "ew : -0.11310894716789544\n",
      "dw : -0.12042677304508231\n"
     ]
    }
   ],
   "source": [
    "xgb_1 = Machine(SL, y, 'Tree', option='XGB', params_grid=param_grid_xgb)\n",
    "xgb_1.training()\n",
    "xgb_2 = Machine(CP, y, 'Tree', option='XGB', params_grid=param_grid_xgb)\n",
    "xgb_2.training()\n",
    "xgb_3 = Machine(F6, y, 'Tree', option='XGB', params_grid=param_grid_xgb)\n",
    "xgb_3.training()\n",
    "\n",
    "print(xgb_1.R2OOS())\n",
    "print('ew :', xgb_1.r2_oos_portfolio())\n",
    "print('dw :', xgb_1.r2_oos_portfolio(cols = cols_dw, weights=w_custom))\n",
    "\n",
    "print(xgb_2.R2OOS())\n",
    "print('ew :', xgb_2.r2_oos_portfolio())\n",
    "print('dw :', xgb_2.r2_oos_portfolio(cols = cols_dw, weights=w_custom))\n",
    "\n",
    "print(xgb_3.R2OOS())\n",
    "print('ew :', xgb_3.r2_oos_portfolio())\n",
    "print('dw :', xgb_3.r2_oos_portfolio(cols = cols_dw, weights=w_custom))"
   ]
  },
  {
   "cell_type": "markdown",
   "metadata": {},
   "source": [
    "### DNN : FWDs ONly"
   ]
  },
  {
   "cell_type": "code",
   "execution_count": null,
   "metadata": {},
   "outputs": [],
   "source": [
    "param_grid = {\n",
    "    \"dnn__module__hidden\": [(3,)],    \n",
    "    \"dnn__module__dropout\": [0.2],\n",
    "    \"dnn__lr\": [0.01],\n",
    "    \"dnn__optimizer__weight_decay\": [0.0005],\n",
    "}\n",
    "\n",
    "dnn_1 = Machine(\n",
    "    FWDS, y,\n",
    "    model_type=\"DNN\",                  \n",
    "    params_grid=param_grid,\n",
    "    forecast_horizon=12,\n",
    "    random_state=15\n",
    ")\n",
    "dnn_1.training()\n",
    "print(dnn_1.R2OOS())\n",
    "print('ew :', dnn_1.r2_oos_portfolio())\n",
    "print('dw :', dnn_1.r2_oos_portfolio(cols = cols_dw, weights=w_custom))\n"
   ]
  },
  {
   "cell_type": "markdown",
   "metadata": {},
   "source": [
    "### DNN : FWDS + MACRO"
   ]
  },
  {
   "cell_type": "code",
   "execution_count": null,
   "metadata": {},
   "outputs": [],
   "source": [
    "param_grid = {\n",
    "    \"dnn__module__hidden\": [(3,3)],    \n",
    "    \"dnn__module__dropout\": [0.2],\n",
    "    \"dnn__lr\": [0.01],\n",
    "    \"dnn__optimizer__weight_decay\": [0.0005],\n",
    "}\n",
    "\n",
    "dnn_2 = Machine(\n",
    "    FWDS, y,\n",
    "    model_type=\"DNN\",                  \n",
    "    params_grid=param_grid,\n",
    "    forecast_horizon=12,\n",
    "    random_state=15\n",
    ")\n",
    "dnn_2.training()\n",
    "print(dnn_2.R2OOS())\n",
    "print('ew :', dnn_2.r2_oos_portfolio())\n",
    "print('dw :', dnn_2.r2_oos_portfolio(cols = cols_dw, weights=w_custom))\n"
   ]
  },
  {
   "cell_type": "code",
   "execution_count": null,
   "metadata": {},
   "outputs": [],
   "source": [
    "AGG = pd.concat([MACV, CP], axis=1)\n",
    "\n",
    "# ── 예시: dual-branch MLP 하이퍼파라미터 그리드 ─────────────────────────\n",
    "param_grid = {\n",
    "    # ── Branch-1 Macro\n",
    "    \"dnn__module__hidden1\": [(32,)],    # 얕은 vs. 두 층\n",
    "    \"dnn__module__drop1\":   [0.2],       # 드롭아웃 비율\n",
    "\n",
    "    # ── Branch-2 FWDS : CP\n",
    "    \"dnn__module__hidden2\": [(1)],\n",
    "    \"dnn__module__drop2\":   [0.2],\n",
    "\n",
    "    # ── 공통 optimizer & regularization ────────────────────────────────\n",
    "    \"dnn__optimizer__lr\":           [0.001],\n",
    "    \"dnn__optimizer__weight_decay\": [0.0005]\n",
    "}\n",
    "\n",
    "grp1_cols = [c for c in AGG.columns if c.startswith(\"F\")]\n",
    "grp2_cols = [c for c in AGG.columns if c not in grp1_cols]\n",
    "\n",
    "dnn_d1 = Machine(\n",
    "    AGG, y,\n",
    "    model_type=\"DNN_DUAL\",\n",
    "    option={\"grp1\": grp1_cols, \"grp2\": grp2_cols},\n",
    "    params_grid=param_grid,\n",
    "    forecast_horizon=12\n",
    ")\n",
    "dnn_d1.training()\n",
    "print(dnn_d1.R2OOS())"
   ]
  },
  {
   "cell_type": "code",
   "execution_count": null,
   "metadata": {},
   "outputs": [],
   "source": [
    "AGG2 = pd.concat([MACV, FWDS], axis=1)\n",
    "\n",
    "# ── 예시: dual-branch MLP 하이퍼파라미터 그리드 ─────────────────────────\n",
    "param_grid = {\n",
    "    # ── Branch-1 Macro\n",
    "    \"dnn__module__hidden1\": [(32,)],    # 얕은 vs. 두 층\n",
    "    \"dnn__module__drop1\":   [0.2],       # 드롭아웃 비율\n",
    "\n",
    "    # ── Branch-2 FWDS : CP\n",
    "    \"dnn__module__hidden2\": [(3,3)],\n",
    "    \"dnn__module__drop2\":   [0.2],\n",
    "\n",
    "    # ── 공통 optimizer & regularization ────────────────────────────────\n",
    "    \"dnn__optimizer__lr\":           [0.001],\n",
    "    \"dnn__optimizer__weight_decay\": [0.0005]\n",
    "}\n",
    "\n",
    "grp1_cols = [c for c in AGG2.columns if c.startswith(\"F\")]\n",
    "grp2_cols = [c for c in AGG2.columns if c not in grp1_cols]\n",
    "\n",
    "dnn_d2 = Machine(\n",
    "    AGG2, y,\n",
    "    model_type=\"DNN_DUAL\",\n",
    "    option={\"grp1\": grp1_cols, \"grp2\": grp2_cols},\n",
    "    params_grid=param_grid,\n",
    "    forecast_horizon=12\n",
    ")\n",
    "dnn_d2.training()\n",
    "print(dnn_d2.R2OOS())"
   ]
  }
 ],
 "metadata": {
  "kernelspec": {
   "display_name": "Python 3",
   "language": "python",
   "name": "python3"
  },
  "language_info": {
   "codemirror_mode": {
    "name": "ipython",
    "version": 3
   },
   "file_extension": ".py",
   "mimetype": "text/x-python",
   "name": "python",
   "nbconvert_exporter": "python",
   "pygments_lexer": "ipython3",
   "version": "3.9.6"
  }
 },
 "nbformat": 4,
 "nbformat_minor": 4
}

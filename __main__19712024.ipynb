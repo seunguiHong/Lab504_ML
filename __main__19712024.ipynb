{
 "cells": [
  {
   "cell_type": "code",
   "execution_count": 1,
   "metadata": {},
   "outputs": [
    {
     "name": "stderr",
     "output_type": "stream",
     "text": [
      "/Users/ethan_hong/Library/Python/3.9/lib/python/site-packages/tqdm/auto.py:21: TqdmWarning: IProgress not found. Please update jupyter and ipywidgets. See https://ipywidgets.readthedocs.io/en/stable/user_install.html\n",
      "  from .autonotebook import tqdm as notebook_tqdm\n"
     ]
    }
   ],
   "source": [
    "import pandas as pd, numpy as np\n",
    "from rolling_framework import Machine\n",
    "\n",
    "import warnings\n",
    "warnings.filterwarnings('ignore')"
   ]
  },
  {
   "cell_type": "markdown",
   "metadata": {},
   "source": [
    "### Data Loading"
   ]
  },
  {
   "cell_type": "code",
   "execution_count": 2,
   "metadata": {},
   "outputs": [],
   "source": [
    "period = '19712023'\n",
    "\n",
    "#%% Target variables : excess returns\n",
    "y = pd.read_csv(f'data/{period}/exrets_{period}.csv', index_col='Time')             # Target : Excess Return (Bond Risk Premia)\n",
    "y = y[['xr_2','xr_5','xr_7','xr_10']]\n",
    "\n",
    "#%% Predictors (Features)\n",
    "FWDS = pd.read_csv(f'data/{period}/fwds_{period}.csv', index_col='Time')            # Forward Rates\n",
    "MACV = pd.read_csv(f'data/{period}/MacroFactors_{period}.csv', index_col='Time')    # Ludvigson and Ng (2009), Macrovariables\n",
    "LSC = pd.read_csv(f'data/{period}/lsc_{period}.csv', index_col='Time')              # Level, Slope and Curvature\n",
    "# YLV = pd.read_csv(f'data/{period}/yl_{period}.csv', index_col='Time')               # yield-level\n",
    "RVOL = pd.read_csv(f'data/{period}/real_vol_{period}.csv', index_col='Time')        # Realised Volatility 10yr\n",
    "#IVOL = pd.read_csv(f'data/{period}/imp_vol_{period}.csv', index_col='Time')        # Implied Volatility (Work for 1990~)\n",
    "CP = pd.read_csv(f'data/{period}/cp_{period}.csv', index_col='Time')                # Cochrane-Piazessi Factor\n",
    "# YALL = pd.read_csv(f'data/{period}/yl_all_{period}.csv', index_col='Time')          # 12 m, 24 m, ... 120 m\n",
    "# YMAX = pd.read_csv(f'data/{period}/yl_max_{period}.csv', index_col='Time')          # 1m ... 120 m\n",
    "\n",
    "F6 = MACV[['F1','F2','F3','F4','F8','F1^3']]\n",
    "SL = LSC[['slope']]\n",
    "LV = LSC[['level']]\n",
    "CU = LSC[['curvature']]\n",
    "\n",
    "\n",
    "AGG = pd.concat([CP, FWDS], axis=1)"
   ]
  },
  {
   "cell_type": "code",
   "execution_count": 12,
   "metadata": {},
   "outputs": [],
   "source": [
    "# ────────────────────────────\n",
    "# Random-Forest\n",
    "# ────────────────────────────\n",
    "param_grid_rf = {\n",
    "    \"model__estimator__n_estimators\":      [300],\n",
    "    \"model__estimator__max_depth\":         [2, 8],\n",
    "    \"model__estimator__min_samples_split\": [2, 4],\n",
    "    \"model__estimator__min_samples_leaf\":  [1, 2, 4],\n",
    "    \"model__estimator__max_features\":      [0.25, 0.5,1],\n",
    "}\n",
    "\n",
    "# ────────────────────────────\n",
    "# Extra-Trees\n",
    "# ────────────────────────────\n",
    "param_grid_et = {\n",
    "    \"model__estimator__n_estimators\":      [300],\n",
    "    \"model__estimator__max_depth\":         [2, 8],\n",
    "    \"model__estimator__min_samples_split\": [2, 4],\n",
    "    \"model__estimator__min_samples_leaf\":  [1, 2, 4],\n",
    "    \"model__estimator__max_features\":      [0.25, 0.5, 1],\n",
    "}\n",
    "\n",
    "# ────────────────────────────\n",
    "# XGBoost  (XGBRegressor 사용 가정)\n",
    "# ────────────────────────────\n",
    "param_grid_xgb = {\n",
    "    \"model__estimator__n_estimators\":  [300],\n",
    "    \"model__estimator__max_depth\":     [2, 4],\n",
    "    \"model__estimator__learning_rate\": [0.01],\n",
    "    \"model__estimator__subsample\":     [0.7, 0.5],\n",
    "    \"model__estimator__reg_lambda\":    [0.1, 1.0],\n",
    "}\n",
    "\n",
    "param_grid_lasso = {'reg__alpha': [0.001, 1.0]}    \n",
    "param_grid_ridge      = {'reg__alpha': [0.001, 1]}\n",
    "param_grid_elasticnet = {\n",
    "    'reg__alpha':   [0.01, 0.1, 1, 10],\n",
    "    'reg__l1_ratio':[0.1, 0.3, 0.5],\n",
    "}"
   ]
  },
  {
   "cell_type": "markdown",
   "metadata": {},
   "source": [
    "### Helper"
   ]
  },
  {
   "cell_type": "code",
   "execution_count": 4,
   "metadata": {},
   "outputs": [],
   "source": [
    "# ────────────────────────────\n",
    "# Custom Weights for Portfolio\n",
    "# ────────────────────────────\n",
    "w_custom = pd.Series(\n",
    "    {\n",
    "        \"xr_2\" : 2,   # 2Y 듀레이션\n",
    "        \"xr_5\" : 5,   # 5Y 듀레이션\n",
    "        \"xr_7\" : 7,   # 7Y 듀레이션\n",
    "        \"xr_10\": 10,   # 10Y 듀레이션\n",
    "    },\n",
    "    name=\"w\"\n",
    ")\n",
    "\n",
    "cols_dw = w_custom.index.tolist()\n",
    "# 합이 1이 되도록 정규화\n",
    "w_custom = w_custom / w_custom.sum()\n",
    "\n",
    "\n",
    "# ────────────────────────────\n",
    "bs = \"197108\" # burn-in-start\n",
    "be = \"199101\" # burn-in-end\n",
    "p = [\"197108\", \"202312\"] #period"
   ]
  },
  {
   "cell_type": "markdown",
   "metadata": {},
   "source": [
    "### OLS, LASSO, ELASTICNET"
   ]
  },
  {
   "cell_type": "code",
   "execution_count": 5,
   "metadata": {},
   "outputs": [
    {
     "name": "stderr",
     "output_type": "stream",
     "text": [
      "OLS rolling: 100%|██████████| 396/396 [00:33<00:00, 11.79it/s]\n",
      "OLS rolling: 100%|██████████| 396/396 [00:14<00:00, 27.25it/s]\n",
      "OLS rolling: 100%|██████████| 396/396 [00:15<00:00, 25.57it/s]\n"
     ]
    },
    {
     "name": "stdout",
     "output_type": "stream",
     "text": [
      "xr_2    -0.082473\n",
      "xr_5     0.003289\n",
      "xr_7     0.042446\n",
      "xr_10    0.105551\n",
      "dtype: float64\n",
      "ew : 0.008501604412247121\n",
      "dw : 0.020249067203341076\n",
      "xr_2    -0.023877\n",
      "xr_5     0.011705\n",
      "xr_7     0.013968\n",
      "xr_10    0.027867\n",
      "dtype: float64\n",
      "ew : -0.025039860544500137\n",
      "dw : -0.029797681402277565\n",
      "xr_2    -0.256994\n",
      "xr_5    -0.026228\n",
      "xr_7     0.005076\n",
      "xr_10    0.060933\n",
      "dtype: float64\n",
      "ew : -0.03500152715958782\n",
      "dw : -0.021103619826791098\n"
     ]
    }
   ],
   "source": [
    "ols_1 = Machine(SL, y, 'OLS' , burn_in_start=bs, burn_in_end=be, period=p)\n",
    "ols_1.training()\n",
    "ols_2 = Machine(CP,y, 'OLS', burn_in_start=bs, burn_in_end=be, period=p)\n",
    "ols_2.training()\n",
    "ols_3 = Machine(F6, y, 'OLS', burn_in_start=bs, burn_in_end=be, period=p)\n",
    "ols_3.training()\n",
    "\n",
    "print(ols_1.R2OOS())\n",
    "print('ew :', ols_1.r2_oos_portfolio())\n",
    "print('dw :', ols_1.r2_oos_portfolio(cols = cols_dw, weights=w_custom))\n",
    "\n",
    "print(ols_2.R2OOS())\n",
    "print('ew :', ols_2.r2_oos_portfolio())\n",
    "print('dw :', ols_2.r2_oos_portfolio(cols = cols_dw, weights=w_custom))\n",
    "\n",
    "print(ols_3.R2OOS())\n",
    "print('ew :', ols_3.r2_oos_portfolio())\n",
    "print('dw :', ols_3.r2_oos_portfolio(cols = cols_dw, weights=w_custom))"
   ]
  },
  {
   "cell_type": "code",
   "execution_count": 6,
   "metadata": {},
   "outputs": [
    {
     "name": "stderr",
     "output_type": "stream",
     "text": [
      "Penalized rolling: 100%|██████████| 396/396 [00:21<00:00, 18.39it/s]\n",
      "Penalized rolling: 100%|██████████| 396/396 [00:28<00:00, 13.93it/s]\n",
      "Penalized rolling: 100%|██████████| 396/396 [00:37<00:00, 10.65it/s]\n"
     ]
    },
    {
     "name": "stdout",
     "output_type": "stream",
     "text": [
      "xr_2    -0.149287\n",
      "xr_5    -0.065618\n",
      "xr_7     0.013893\n",
      "xr_10    0.096883\n",
      "dtype: float64\n",
      "ew : -0.022049770814446035\n",
      "dw : -0.0023632065197169982\n",
      "xr_2    -0.001688\n",
      "xr_5     0.035842\n",
      "xr_7     0.041587\n",
      "xr_10    0.053626\n",
      "dtype: float64\n",
      "ew : 0.009265357406012309\n",
      "dw : 0.0011704107817599452\n",
      "xr_2    -0.319276\n",
      "xr_5    -0.067205\n",
      "xr_7    -0.010821\n",
      "xr_10    0.043627\n",
      "dtype: float64\n",
      "ew : -0.061095781907104074\n",
      "dw : -0.043538287447144386\n"
     ]
    }
   ],
   "source": [
    "lasso_1 = Machine(SL, y, 'Penalized', option='lasso', params_grid=param_grid_lasso, burn_in_start=bs, burn_in_end=be, period=p)\n",
    "lasso_1.training()\n",
    "lasso_2 = Machine(CP, y, 'Penalized', option='lasso', params_grid=param_grid_lasso, burn_in_start=bs, burn_in_end=be, period=p)\n",
    "lasso_2.training()\n",
    "lasso_3 = Machine(F6, y, 'Penalized', option='lasso', params_grid=param_grid_lasso, burn_in_start=bs, burn_in_end=be, period=p)\n",
    "lasso_3.training()\n",
    "\n",
    "\n",
    "print(lasso_1.R2OOS())\n",
    "print('ew :', lasso_1.r2_oos_portfolio())\n",
    "print('dw :', lasso_1.r2_oos_portfolio(cols = cols_dw, weights=w_custom))\n",
    "\n",
    "print(lasso_2.R2OOS())\n",
    "print('ew :', lasso_2.r2_oos_portfolio())\n",
    "print('dw :', lasso_2.r2_oos_portfolio(cols = cols_dw, weights=w_custom))\n",
    "\n",
    "print(lasso_3.R2OOS())\n",
    "print('ew :', lasso_3.r2_oos_portfolio())\n",
    "print('dw :', lasso_3.r2_oos_portfolio(cols = cols_dw, weights=w_custom))"
   ]
  },
  {
   "cell_type": "code",
   "execution_count": 10,
   "metadata": {},
   "outputs": [
    {
     "name": "stderr",
     "output_type": "stream",
     "text": [
      "Penalized rolling: 100%|██████████| 396/396 [00:10<00:00, 36.58it/s]\n",
      "Penalized rolling: 100%|██████████| 396/396 [00:07<00:00, 51.55it/s]\n",
      "Penalized rolling: 100%|██████████| 396/396 [00:06<00:00, 56.84it/s]\n"
     ]
    },
    {
     "name": "stdout",
     "output_type": "stream",
     "text": [
      "xr_2    -0.082582\n",
      "xr_5     0.003173\n",
      "xr_7     0.042387\n",
      "xr_10    0.105558\n",
      "dtype: float64\n",
      "ew : 0.008435473548068617\n",
      "dw : 0.02020691512208106\n",
      "xr_2    -0.023410\n",
      "xr_5     0.012221\n",
      "xr_7     0.014598\n",
      "xr_10    0.028551\n",
      "dtype: float64\n",
      "ew : -0.024372116246686115\n",
      "dw : -0.029108893140944225\n",
      "xr_2    -0.254703\n",
      "xr_5    -0.025088\n",
      "xr_7     0.006191\n",
      "xr_10    0.061808\n",
      "dtype: float64\n",
      "ew : -0.033834996974841935\n",
      "dw : -0.020031664135687466\n"
     ]
    }
   ],
   "source": [
    "ridge_1 = Machine(SL, y, 'Penalized', option='ridge', params_grid=param_grid_ridge, burn_in_start=bs, burn_in_end=be, period=p)\n",
    "ridge_1.training()\n",
    "ridge_2 = Machine(CP, y, 'Penalized', option='ridge', params_grid=param_grid_ridge, burn_in_start=bs, burn_in_end=be, period=p)\n",
    "ridge_2.training()\n",
    "ridge_3 = Machine(F6, y, 'Penalized', option='ridge', params_grid=param_grid_ridge, burn_in_start=bs, burn_in_end=be, period=p)\n",
    "ridge_3.training()\n",
    "\n",
    "\n",
    "print(ridge_1.R2OOS())\n",
    "print('ew :', ridge_1.r2_oos_portfolio())\n",
    "print('dw :', ridge_1.r2_oos_portfolio(cols = cols_dw, weights=w_custom))\n",
    "\n",
    "print(ridge_2.R2OOS())\n",
    "print('ew :', ridge_2.r2_oos_portfolio())\n",
    "print('dw :', ridge_2.r2_oos_portfolio(cols = cols_dw, weights=w_custom))\n",
    "\n",
    "print(ridge_3.R2OOS())\n",
    "print('ew :', ridge_3.r2_oos_portfolio())\n",
    "print('dw :', ridge_3.r2_oos_portfolio(cols = cols_dw, weights=w_custom))"
   ]
  },
  {
   "cell_type": "code",
   "execution_count": 7,
   "metadata": {},
   "outputs": [
    {
     "name": "stderr",
     "output_type": "stream",
     "text": [
      "Penalized rolling:   0%|          | 0/360 [00:00<?, ?it/s]"
     ]
    },
    {
     "name": "stderr",
     "output_type": "stream",
     "text": [
      "Penalized rolling: 100%|██████████| 360/360 [00:58<00:00,  6.14it/s]\n",
      "Penalized rolling: 100%|██████████| 360/360 [01:00<00:00,  5.94it/s]\n",
      "Penalized rolling: 100%|██████████| 360/360 [01:12<00:00,  5.00it/s]\n"
     ]
    },
    {
     "name": "stdout",
     "output_type": "stream",
     "text": [
      "xr_2    -0.175665\n",
      "xr_5    -0.089630\n",
      "xr_7    -0.028150\n",
      "xr_10    0.063809\n",
      "dtype: float64\n",
      "ew : -0.1658429596938562\n",
      "dw : -0.14602176236112752\n",
      "xr_2    -0.042565\n",
      "xr_5     0.024434\n",
      "xr_7     0.054527\n",
      "xr_10    0.099454\n",
      "dtype: float64\n",
      "ew : -0.06800728526477418\n",
      "dw : -0.0670683359962545\n",
      "xr_2    -0.234712\n",
      "xr_5    -0.089215\n",
      "xr_7    -0.054463\n",
      "xr_10   -0.005559\n",
      "dtype: float64\n",
      "ew : -0.20162131707054187\n",
      "dw : -0.19458831277632793\n"
     ]
    }
   ],
   "source": [
    "elasticnet_1 = Machine(SL, y, 'Penalized', option='elasticnet', params_grid=param_grid_elasticnet)\n",
    "elasticnet_1.training()\n",
    "\n",
    "elasticnet_2 = Machine(CP, y, 'Penalized', option='elasticnet', params_grid=param_grid_elasticnet)\n",
    "elasticnet_2.training()\n",
    "\n",
    "elasticnet_3 = Machine(F6, y, 'Penalized', option='elasticnet', params_grid=param_grid_elasticnet)\n",
    "elasticnet_3.training()\n",
    "\n",
    "\n",
    "print(elasticnet_1.R2OOS())\n",
    "print('ew :', elasticnet_1.r2_oos_portfolio())\n",
    "print('dw :', elasticnet_1.r2_oos_portfolio(cols = cols_dw, weights=w_custom))\n",
    "\n",
    "print(elasticnet_2.R2OOS())\n",
    "print('ew :', elasticnet_2.r2_oos_portfolio())\n",
    "print('dw :', elasticnet_2.r2_oos_portfolio(cols = cols_dw, weights=w_custom))\n",
    "\n",
    "print(elasticnet_3.R2OOS())\n",
    "print('ew :', elasticnet_3.r2_oos_portfolio())\n",
    "print('dw :', elasticnet_3.r2_oos_portfolio(cols = cols_dw, weights=w_custom))"
   ]
  },
  {
   "cell_type": "markdown",
   "metadata": {},
   "source": [
    "### Tree"
   ]
  },
  {
   "cell_type": "code",
   "execution_count": 8,
   "metadata": {},
   "outputs": [
    {
     "name": "stderr",
     "output_type": "stream",
     "text": [
      "Tree rolling: 100%|██████████| 396/396 [2:25:49<00:00, 22.09s/it]  \n",
      "Tree rolling: 100%|██████████| 396/396 [1:42:00<00:00, 15.46s/it]\n",
      "Tree rolling: 100%|██████████| 396/396 [1:10:16<00:00, 10.65s/it]\n"
     ]
    },
    {
     "name": "stdout",
     "output_type": "stream",
     "text": [
      "xr_2    -0.230680\n",
      "xr_5    -0.138054\n",
      "xr_7    -0.095965\n",
      "xr_10   -0.050871\n",
      "dtype: float64\n",
      "ew : -0.1438066592432523\n",
      "dw : -0.1356678879449329\n",
      "xr_2    -0.110794\n",
      "xr_5    -0.106382\n",
      "xr_7    -0.122055\n",
      "xr_10   -0.129678\n",
      "dtype: float64\n",
      "ew : -0.17064285043956184\n",
      "dw : -0.1829130869812936\n",
      "xr_2    -0.079444\n",
      "xr_5    -0.008482\n",
      "xr_7     0.002558\n",
      "xr_10    0.032217\n",
      "dtype: float64\n",
      "ew : -0.0329908243919006\n",
      "dw : -0.033061157755871484\n"
     ]
    }
   ],
   "source": [
    "rf_1 = Machine(SL, y, 'Tree', option = 'RandomForest', params_grid=param_grid_rf, burn_in_start=bs, burn_in_end=be, period=p)\n",
    "rf_1.training()\n",
    "rf_2 = Machine(CP, y, 'Tree', option = 'RandomForest', params_grid=param_grid_rf, burn_in_start=bs, burn_in_end=be, period=p)\n",
    "rf_2.training()\n",
    "rf_3 = Machine(F6, y, 'Tree', option = 'RandomForest', params_grid=param_grid_rf, burn_in_start=bs, burn_in_end=be, period=p)\n",
    "rf_3.training()\n",
    "\n",
    "print(rf_1.R2OOS())\n",
    "print('ew :', rf_1.r2_oos_portfolio())\n",
    "print('dw :', rf_1.r2_oos_portfolio(cols = cols_dw, weights=w_custom))\n",
    "\n",
    "print(rf_2.R2OOS())\n",
    "print('ew :', rf_2.r2_oos_portfolio())\n",
    "print('dw :', rf_2.r2_oos_portfolio(cols = cols_dw, weights=w_custom))\n",
    "\n",
    "print(rf_3.R2OOS())\n",
    "print('ew :', rf_3.r2_oos_portfolio())\n",
    "print('dw :', rf_3.r2_oos_portfolio(cols = cols_dw, weights=w_custom))"
   ]
  },
  {
   "cell_type": "code",
   "execution_count": 9,
   "metadata": {},
   "outputs": [
    {
     "name": "stderr",
     "output_type": "stream",
     "text": [
      "Tree rolling: 100%|██████████| 396/396 [31:18<00:00,  4.74s/it]\n",
      "Tree rolling: 100%|██████████| 396/396 [31:21<00:00,  4.75s/it]\n",
      "Tree rolling: 100%|██████████| 396/396 [31:45<00:00,  4.81s/it]\n"
     ]
    },
    {
     "name": "stdout",
     "output_type": "stream",
     "text": [
      "xr_2    -0.187796\n",
      "xr_5    -0.091371\n",
      "xr_7    -0.033015\n",
      "xr_10    0.043922\n",
      "dtype: float64\n",
      "ew : -0.07246599002427523\n",
      "dw : -0.05517140707816215\n",
      "xr_2    -0.011248\n",
      "xr_5     0.011554\n",
      "xr_7     0.021166\n",
      "xr_10    0.038569\n",
      "dtype: float64\n",
      "ew : -0.017368861694225357\n",
      "dw : -0.021291396022271147\n",
      "xr_2    -0.087882\n",
      "xr_5    -0.004555\n",
      "xr_7     0.011782\n",
      "xr_10    0.029876\n",
      "dtype: float64\n",
      "ew : -0.031556297175501236\n",
      "dw : -0.03183203777760846\n"
     ]
    }
   ],
   "source": [
    "et_1 = Machine(SL, y, 'Tree', option='ExtremeTrees', params_grid=param_grid_et, burn_in_start=bs, burn_in_end=be, period=p)\n",
    "et_1.training()\n",
    "et_2 = Machine(CP, y, 'Tree', option='ExtremeTrees', params_grid=param_grid_et, burn_in_start=bs, burn_in_end=be, period=p)\n",
    "et_2.training()\n",
    "et_3 = Machine(F6, y, 'Tree', option='ExtremeTrees', params_grid=param_grid_et, burn_in_start=bs, burn_in_end=be, period=p)\n",
    "et_3.training()\n",
    "\n",
    "\n",
    "print(et_1.R2OOS())\n",
    "print('ew :', et_1.r2_oos_portfolio()) \n",
    "print('dw :', et_1.r2_oos_portfolio(cols = cols_dw, weights=w_custom))\n",
    "\n",
    "print(et_2.R2OOS())\n",
    "print('ew :', et_2.r2_oos_portfolio())\n",
    "print('dw :', et_2.r2_oos_portfolio(cols = cols_dw, weights=w_custom))\n",
    "\n",
    "print(et_3.R2OOS())\n",
    "print('ew :', et_3.r2_oos_portfolio())\n",
    "print('dw :', et_3.r2_oos_portfolio(cols = cols_dw, weights=w_custom))\n"
   ]
  },
  {
   "cell_type": "code",
   "execution_count": 13,
   "metadata": {},
   "outputs": [
    {
     "name": "stderr",
     "output_type": "stream",
     "text": [
      "Tree rolling: 100%|██████████| 396/396 [05:35<00:00,  1.18it/s]\n",
      "Tree rolling: 100%|██████████| 396/396 [03:15<00:00,  2.02it/s]\n",
      "Tree rolling: 100%|██████████| 396/396 [03:08<00:00,  2.10it/s]\n"
     ]
    },
    {
     "name": "stdout",
     "output_type": "stream",
     "text": [
      "xr_2    -0.217348\n",
      "xr_5    -0.150001\n",
      "xr_7    -0.092922\n",
      "xr_10   -0.025257\n",
      "dtype: float64\n",
      "ew : -0.1351570379708873\n",
      "dw : -0.1219819760847689\n",
      "xr_2    -0.078179\n",
      "xr_5    -0.053915\n",
      "xr_7    -0.061887\n",
      "xr_10   -0.051353\n",
      "dtype: float64\n",
      "ew : -0.1024862664568924\n",
      "dw : -0.11004405088764835\n",
      "xr_2    -0.084858\n",
      "xr_5    -0.002334\n",
      "xr_7     0.004593\n",
      "xr_10    0.033728\n",
      "dtype: float64\n",
      "ew : -0.031301440924228485\n",
      "dw : -0.030854654699884243\n"
     ]
    }
   ],
   "source": [
    "xgb_1 = Machine(SL, y, 'Tree', option='XGB', params_grid=param_grid_xgb, burn_in_start=bs, burn_in_end=be, period=p)\n",
    "xgb_1.training()\n",
    "xgb_2 = Machine(CP, y, 'Tree', option='XGB', params_grid=param_grid_xgb, burn_in_start=bs, burn_in_end=be, period=p)\n",
    "xgb_2.training()\n",
    "xgb_3 = Machine(F6, y, 'Tree', option='XGB', params_grid=param_grid_xgb, burn_in_start=bs, burn_in_end=be, period=p)\n",
    "xgb_3.training()\n",
    "\n",
    "print(xgb_1.R2OOS())\n",
    "print('ew :', xgb_1.r2_oos_portfolio())\n",
    "print('dw :', xgb_1.r2_oos_portfolio(cols = cols_dw, weights=w_custom))\n",
    "\n",
    "print(xgb_2.R2OOS())\n",
    "print('ew :', xgb_2.r2_oos_portfolio())\n",
    "print('dw :', xgb_2.r2_oos_portfolio(cols = cols_dw, weights=w_custom))\n",
    "\n",
    "print(xgb_3.R2OOS())\n",
    "print('ew :', xgb_3.r2_oos_portfolio())\n",
    "print('dw :', xgb_3.r2_oos_portfolio(cols = cols_dw, weights=w_custom))"
   ]
  },
  {
   "cell_type": "markdown",
   "metadata": {},
   "source": [
    "### DNN : FWDs ONly"
   ]
  },
  {
   "cell_type": "code",
   "execution_count": null,
   "metadata": {},
   "outputs": [],
   "source": [
    "param_grid = {\n",
    "    \"dnn__module__hidden\": [(3,)],    \n",
    "    \"dnn__module__dropout\": [0.2],\n",
    "    \"dnn__lr\": [0.01],\n",
    "    \"dnn__optimizer__weight_decay\": [0.0005],\n",
    "}\n",
    "\n",
    "dnn_1 = Machine(\n",
    "    FWDS, y,\n",
    "    model_type=\"DNN\",                  \n",
    "    params_grid=param_grid,\n",
    "    burn_in_start=bs,\n",
    "    burn_in_end=be,\n",
    "    period=p,\n",
    "    forecast_horizon=12,\n",
    "    random_state=15\n",
    ")\n",
    "dnn_1.training()\n",
    "print(dnn_1.R2OOS())\n",
    "print('ew :', dnn_1.r2_oos_portfolio())\n",
    "print('dw :', dnn_1.r2_oos_portfolio(cols = cols_dw, weights=w_custom))\n"
   ]
  },
  {
   "cell_type": "markdown",
   "metadata": {},
   "source": [
    "### DNN : FWDS + MACRO"
   ]
  },
  {
   "cell_type": "code",
   "execution_count": null,
   "metadata": {},
   "outputs": [],
   "source": [
    "param_grid = {\n",
    "    \"dnn__module__hidden\": [(3,3)],    \n",
    "    \"dnn__module__dropout\": [0.2],\n",
    "    \"dnn__lr\": [0.01],\n",
    "    \"dnn__optimizer__weight_decay\": [0.0005],\n",
    "}\n",
    "\n",
    "dnn_2 = Machine(\n",
    "    FWDS, y,\n",
    "    model_type=\"DNN\",                  \n",
    "    params_grid=param_grid,\n",
    "    burn_in_start=bs,\n",
    "    burn_in_end=be,\n",
    "    period=p,\n",
    "    forecast_horizon=12,\n",
    "    random_state=15\n",
    ")\n",
    "dnn_2.training()\n",
    "print(dnn_2.R2OOS())\n",
    "print('ew :', dnn_2.r2_oos_portfolio())\n",
    "print('dw :', dnn_2.r2_oos_portfolio(cols = cols_dw, weights=w_custom))\n"
   ]
  },
  {
   "cell_type": "code",
   "execution_count": null,
   "metadata": {},
   "outputs": [],
   "source": [
    "AGG = pd.concat([MACV, CP], axis=1)\n",
    "\n",
    "# ── 예시: dual-branch MLP 하이퍼파라미터 그리드 ─────────────────────────\n",
    "param_grid = {\n",
    "    # ── Branch-1 Macro\n",
    "    \"dnn__module__hidden1\": [(32,)],    # 얕은 vs. 두 층\n",
    "    \"dnn__module__drop1\":   [0.2],       # 드롭아웃 비율\n",
    "\n",
    "    # ── Branch-2 FWDS : CP\n",
    "    \"dnn__module__hidden2\": [(1)],\n",
    "    \"dnn__module__drop2\":   [0.2],\n",
    "\n",
    "    # ── 공통 optimizer & regularization ────────────────────────────────\n",
    "    \"dnn__optimizer__lr\":           [0.001],\n",
    "    \"dnn__optimizer__weight_decay\": [0.0005]\n",
    "}\n",
    "\n",
    "grp1_cols = [c for c in AGG.columns if c.startswith(\"F\")]\n",
    "grp2_cols = [c for c in AGG.columns if c not in grp1_cols]\n",
    "\n",
    "dnn_d1 = Machine(\n",
    "    AGG, y,\n",
    "    model_type=\"DNN_DUAL\",\n",
    "    option={\"grp1\": grp1_cols, \"grp2\": grp2_cols},\n",
    "    params_grid=param_grid,\n",
    "    burn_in_start=bs,\n",
    "    burn_in_end=be,\n",
    "    period=p,\n",
    "    forecast_horizon=12\n",
    ")\n",
    "dnn_d1.training()\n",
    "print(dnn_d1.R2OOS())"
   ]
  },
  {
   "cell_type": "code",
   "execution_count": null,
   "metadata": {},
   "outputs": [],
   "source": [
    "AGG2 = pd.concat([MACV, FWDS], axis=1)\n",
    "\n",
    "# ── 예시: dual-branch MLP 하이퍼파라미터 그리드 ─────────────────────────\n",
    "param_grid = {\n",
    "    # ── Branch-1 Macro\n",
    "    \"dnn__module__hidden1\": [(32,)],    # 얕은 vs. 두 층\n",
    "    \"dnn__module__drop1\":   [0.2],       # 드롭아웃 비율\n",
    "\n",
    "    # ── Branch-2 FWDS : CP\n",
    "    \"dnn__module__hidden2\": [(3,3)],\n",
    "    \"dnn__module__drop2\":   [0.2],\n",
    "\n",
    "    # ── 공통 optimizer & regularization ────────────────────────────────\n",
    "    \"dnn__optimizer__lr\":           [0.001],\n",
    "    \"dnn__optimizer__weight_decay\": [0.0005]\n",
    "}\n",
    "\n",
    "grp1_cols = [c for c in AGG2.columns if c.startswith(\"F\")]\n",
    "grp2_cols = [c for c in AGG2.columns if c not in grp1_cols]\n",
    "\n",
    "dnn_d2 = Machine(\n",
    "    AGG2, y,\n",
    "    model_type=\"DNN_DUAL\",\n",
    "    option={\"grp1\": grp1_cols, \"grp2\": grp2_cols},\n",
    "    burn_in_start=bs,\n",
    "    burn_in_end=be,\n",
    "    period=p,\n",
    "    params_grid=param_grid,\n",
    "    forecast_horizon=12\n",
    ")\n",
    "dnn_d2.training()\n",
    "print(dnn_d2.R2OOS())"
   ]
  }
 ],
 "metadata": {
  "kernelspec": {
   "display_name": "Python 3",
   "language": "python",
   "name": "python3"
  },
  "language_info": {
   "codemirror_mode": {
    "name": "ipython",
    "version": 3
   },
   "file_extension": ".py",
   "mimetype": "text/x-python",
   "name": "python",
   "nbconvert_exporter": "python",
   "pygments_lexer": "ipython3",
   "version": "3.9.6"
  }
 },
 "nbformat": 4,
 "nbformat_minor": 4
}

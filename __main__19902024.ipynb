{
 "cells": [
  {
   "cell_type": "code",
   "execution_count": 1,
   "metadata": {},
   "outputs": [
    {
     "name": "stderr",
     "output_type": "stream",
     "text": [
      "/Users/ethan_hong/Library/Python/3.9/lib/python/site-packages/tqdm/auto.py:21: TqdmWarning: IProgress not found. Please update jupyter and ipywidgets. See https://ipywidgets.readthedocs.io/en/stable/user_install.html\n",
      "  from .autonotebook import tqdm as notebook_tqdm\n"
     ]
    }
   ],
   "source": [
    "import pandas as pd, numpy as np\n",
    "from rolling_framework import Machine\n",
    "\n",
    "import warnings\n",
    "warnings.filterwarnings('ignore')"
   ]
  },
  {
   "cell_type": "markdown",
   "metadata": {},
   "source": [
    "### Data Loading"
   ]
  },
  {
   "cell_type": "code",
   "execution_count": 2,
   "metadata": {},
   "outputs": [],
   "source": [
    "period = '19712023'\n",
    "\n",
    "#%% Target variables : excess returns\n",
    "y = pd.read_csv(f'data/{period}/exrets_{period}.csv', index_col='Time')             # Target : Excess Return (Bond Risk Premia)\n",
    "y = y[['xr_2','xr_5','xr_7','xr_10']]\n",
    "\n",
    "#%% Predictors (Features)\n",
    "FWDS = pd.read_csv(f'data/{period}/fwds_{period}.csv', index_col='Time')            # Forward Rates\n",
    "MACV = pd.read_csv(f'data/{period}/MacroFactors_{period}.csv', index_col='Time')    # Ludvigson and Ng (2009), Macrovariables\n",
    "LSC = pd.read_csv(f'data/{period}/lsc_{period}.csv', index_col='Time')              # Level, Slope and Curvature\n",
    "# YLV = pd.read_csv(f'data/{period}/yl_{period}.csv', index_col='Time')               # yield-level\n",
    "RVOL = pd.read_csv(f'data/{period}/real_vol_{period}.csv', index_col='Time')        # Realised Volatility 10yr\n",
    "#IVOL = pd.read_csv(f'data/{period}/imp_vol_{period}.csv', index_col='Time')        # Implied Volatility (Work for 1990~)\n",
    "CP = pd.read_csv(f'data/{period}/cp_{period}.csv', index_col='Time')                # Cochrane-Piazessi Factor\n",
    "# YALL = pd.read_csv(f'data/{period}/yl_all_{period}.csv', index_col='Time')          # 12 m, 24 m, ... 120 m\n",
    "# YMAX = pd.read_csv(f'data/{period}/yl_max_{period}.csv', index_col='Time')          # 1m ... 120 m\n",
    "\n",
    "F6 = MACV[['F1','F2','F3','F4','F8','F1^3']]\n",
    "SL = LSC[['slope']]\n",
    "LV = LSC[['level']]\n",
    "CU = LSC[['curvature']]\n",
    "\n",
    "\n",
    "AGG = pd.concat([CP, FWDS], axis=1)"
   ]
  },
  {
   "cell_type": "code",
   "execution_count": 12,
   "metadata": {},
   "outputs": [],
   "source": [
    "# ────────────────────────────\n",
    "# Random-Forest\n",
    "# ────────────────────────────\n",
    "param_grid_rf = {\n",
    "    \"model__estimator__n_estimators\":      [300],\n",
    "    \"model__estimator__max_depth\":         [2, 8],\n",
    "    \"model__estimator__min_samples_split\": [2, 4],\n",
    "    \"model__estimator__min_samples_leaf\":  [1, 2, 4],\n",
    "    \"model__estimator__max_features\":      [0.25, 0.5,1],\n",
    "}\n",
    "\n",
    "# ────────────────────────────\n",
    "# Extra-Trees\n",
    "# ────────────────────────────\n",
    "param_grid_et = {\n",
    "    \"model__estimator__n_estimators\":      [300],\n",
    "    \"model__estimator__max_depth\":         [2, 8],\n",
    "    \"model__estimator__min_samples_split\": [2, 4],\n",
    "    \"model__estimator__min_samples_leaf\":  [1, 2, 4],\n",
    "    \"model__estimator__max_features\":      [0.25, 0.5, 1],\n",
    "}\n",
    "\n",
    "# ────────────────────────────\n",
    "# XGBoost  (XGBRegressor 사용 가정)\n",
    "# ────────────────────────────\n",
    "param_grid_xgb = {\n",
    "    \"model__estimator__n_estimators\":  [300],\n",
    "    \"model__estimator__max_depth\":     [2, 4],\n",
    "    \"model__estimator__learning_rate\": [0.01],\n",
    "    \"model__estimator__subsample\":     [0.7, 0.5],\n",
    "    \"model__estimator__reg_lambda\":    [0.1, 1.0],\n",
    "}\n",
    "\n",
    "param_grid_lasso = {'reg__alpha': [0.001, 1.0]}    \n",
    "param_grid_ridge      = {'reg__alpha': [0.001, 1]}\n",
    "param_grid_elasticnet = {\n",
    "    'reg__alpha':   [0.01, 0.1, 1, 10],\n",
    "    'reg__l1_ratio':[0.1, 0.3, 0.5],\n",
    "}"
   ]
  },
  {
   "cell_type": "markdown",
   "metadata": {},
   "source": [
    "### Helper"
   ]
  },
  {
   "cell_type": "code",
   "execution_count": 4,
   "metadata": {},
   "outputs": [],
   "source": [
    "# ────────────────────────────\n",
    "# Custom Weights for Portfolio\n",
    "# ────────────────────────────\n",
    "w_custom = pd.Series(\n",
    "    {\n",
    "        \"xr_2\" : 2,   # 2Y 듀레이션\n",
    "        \"xr_5\" : 5,   # 5Y 듀레이션\n",
    "        \"xr_7\" : 7,   # 7Y 듀레이션\n",
    "        \"xr_10\": 10,   # 10Y 듀레이션\n",
    "    },\n",
    "    name=\"w\"\n",
    ")\n",
    "\n",
    "cols_dw = w_custom.index.tolist()\n",
    "# 합이 1이 되도록 정규화\n",
    "w_custom = w_custom / w_custom.sum()\n",
    "\n",
    "\n",
    "# ────────────────────────────\n",
    "bs = \"199009\" # burn-in-start\n",
    "be = \"200609\" # burn-in-end\n",
    "p = [\"199009\", \"202312\"] #period"
   ]
  },
  {
   "cell_type": "markdown",
   "metadata": {},
   "source": [
    "### OLS, LASSO, ELASTICNET"
   ]
  },
  {
   "cell_type": "code",
   "execution_count": 5,
   "metadata": {},
   "outputs": [
    {
     "name": "stderr",
     "output_type": "stream",
     "text": [
      "OLS rolling: 100%|██████████| 208/208 [00:21<00:00,  9.69it/s]\n",
      "OLS rolling: 100%|██████████| 208/208 [00:07<00:00, 27.16it/s]\n",
      "OLS rolling: 100%|██████████| 208/208 [00:08<00:00, 23.55it/s]\n"
     ]
    },
    {
     "name": "stdout",
     "output_type": "stream",
     "text": [
      "xr_2    -0.112185\n",
      "xr_5    -0.004982\n",
      "xr_7     0.035567\n",
      "xr_10    0.096039\n",
      "dtype: float64\n",
      "ew : 0.04726677148779712\n",
      "dw : 0.06475501531237549\n",
      "xr_2    -0.089217\n",
      "xr_5    -0.023229\n",
      "xr_7     0.009279\n",
      "xr_10    0.068695\n",
      "dtype: float64\n",
      "ew : 0.027363835050630003\n",
      "dw : 0.0415248375379742\n",
      "xr_2    -0.909016\n",
      "xr_5    -0.762650\n",
      "xr_7    -0.730646\n",
      "xr_10   -0.799235\n",
      "dtype: float64\n",
      "ew : -0.7910499151881054\n",
      "dw : -0.7819287018906296\n"
     ]
    }
   ],
   "source": [
    "ols_1 = Machine(SL, y, 'OLS' , burn_in_start=bs, burn_in_end=be, period=p)\n",
    "ols_1.training()\n",
    "ols_2 = Machine(CP,y, 'OLS', burn_in_start=bs, burn_in_end=be, period=p)\n",
    "ols_2.training()\n",
    "ols_3 = Machine(F6, y, 'OLS', burn_in_start=bs, burn_in_end=be, period=p)\n",
    "ols_3.training()\n",
    "\n",
    "print(ols_1.R2OOS())\n",
    "print('ew :', ols_1.r2_oos_portfolio())\n",
    "print('dw :', ols_1.r2_oos_portfolio(cols = cols_dw, weights=w_custom))\n",
    "\n",
    "print(ols_2.R2OOS())\n",
    "print('ew :', ols_2.r2_oos_portfolio())\n",
    "print('dw :', ols_2.r2_oos_portfolio(cols = cols_dw, weights=w_custom))\n",
    "\n",
    "print(ols_3.R2OOS())\n",
    "print('ew :', ols_3.r2_oos_portfolio())\n",
    "print('dw :', ols_3.r2_oos_portfolio(cols = cols_dw, weights=w_custom))"
   ]
  },
  {
   "cell_type": "code",
   "execution_count": 11,
   "metadata": {},
   "outputs": [
    {
     "name": "stderr",
     "output_type": "stream",
     "text": [
      "Penalized rolling: 100%|██████████| 208/208 [00:07<00:00, 26.16it/s]\n",
      "Penalized rolling: 100%|██████████| 208/208 [00:03<00:00, 54.92it/s]\n",
      "Penalized rolling: 100%|██████████| 208/208 [00:03<00:00, 55.46it/s]\n"
     ]
    },
    {
     "name": "stdout",
     "output_type": "stream",
     "text": [
      "xr_2    -0.112158\n",
      "xr_5    -0.005105\n",
      "xr_7     0.035384\n",
      "xr_10    0.095742\n",
      "dtype: float64\n",
      "ew : 0.04705223225758537\n",
      "dw : 0.06451414410137912\n",
      "xr_2    -0.089218\n",
      "xr_5    -0.023174\n",
      "xr_7     0.009335\n",
      "xr_10    0.068707\n",
      "dtype: float64\n",
      "ew : 0.02739429299065743\n",
      "dw : 0.04155276878841563\n",
      "xr_2    -0.945394\n",
      "xr_5    -0.785102\n",
      "xr_7    -0.743835\n",
      "xr_10   -0.800098\n",
      "dtype: float64\n",
      "ew : -0.8045260597437767\n",
      "dw : -0.7911905796168832\n"
     ]
    }
   ],
   "source": [
    "ridge_1 = Machine(SL, y, 'Penalized', option='ridge', params_grid=param_grid_ridge, burn_in_start=bs, burn_in_end=be, period=p)\n",
    "ridge_1.training()\n",
    "ridge_2 = Machine(CP, y, 'Penalized', option='ridge', params_grid=param_grid_ridge, burn_in_start=bs, burn_in_end=be, period=p)\n",
    "ridge_2.training()\n",
    "ridge_3 = Machine(F6, y, 'Penalized', option='ridge', params_grid=param_grid_ridge, burn_in_start=bs, burn_in_end=be, period=p)\n",
    "ridge_3.training()\n",
    "\n",
    "\n",
    "print(ridge_1.R2OOS())\n",
    "print('ew :', ridge_1.r2_oos_portfolio())\n",
    "print('dw :', ridge_1.r2_oos_portfolio(cols = cols_dw, weights=w_custom))\n",
    "\n",
    "print(ridge_2.R2OOS())\n",
    "print('ew :', ridge_2.r2_oos_portfolio())\n",
    "print('dw :', ridge_2.r2_oos_portfolio(cols = cols_dw, weights=w_custom))\n",
    "\n",
    "print(ridge_3.R2OOS())\n",
    "print('ew :', ridge_3.r2_oos_portfolio())\n",
    "print('dw :', ridge_3.r2_oos_portfolio(cols = cols_dw, weights=w_custom))"
   ]
  },
  {
   "cell_type": "code",
   "execution_count": 6,
   "metadata": {},
   "outputs": [
    {
     "name": "stderr",
     "output_type": "stream",
     "text": [
      "Penalized rolling: 100%|██████████| 208/208 [00:09<00:00, 21.95it/s]\n",
      "Penalized rolling: 100%|██████████| 208/208 [00:12<00:00, 16.02it/s]\n",
      "Penalized rolling: 100%|██████████| 208/208 [00:10<00:00, 20.40it/s]\n"
     ]
    },
    {
     "name": "stdout",
     "output_type": "stream",
     "text": [
      "xr_2    -0.107313\n",
      "xr_5    -0.078389\n",
      "xr_7    -0.048870\n",
      "xr_10    0.039690\n",
      "dtype: float64\n",
      "ew : -0.020440336842246776\n",
      "dw : -0.002134152092058139\n",
      "xr_2    -0.206568\n",
      "xr_5    -0.139219\n",
      "xr_7    -0.060293\n",
      "xr_10    0.026807\n",
      "dtype: float64\n",
      "ew : -0.042742389753450905\n",
      "dw : -0.01893418154346027\n",
      "xr_2    -0.100748\n",
      "xr_5    -0.068164\n",
      "xr_7    -0.061414\n",
      "xr_10   -0.010356\n",
      "dtype: float64\n",
      "ew : -0.0423209549000958\n",
      "dw : -0.03143878483906781\n"
     ]
    }
   ],
   "source": [
    "lasso_1 = Machine(SL, y, 'Penalized', option='lasso', params_grid=param_grid_lasso, burn_in_start=bs, burn_in_end=be, period=p)\n",
    "lasso_1.training()\n",
    "lasso_2 = Machine(CP, y, 'Penalized', option='lasso', params_grid=param_grid_lasso, burn_in_start=bs, burn_in_end=be, period=p)\n",
    "lasso_2.training()\n",
    "lasso_3 = Machine(F6, y, 'Penalized', option='lasso', params_grid=param_grid_lasso, burn_in_start=bs, burn_in_end=be, period=p)\n",
    "lasso_3.training()\n",
    "\n",
    "\n",
    "print(lasso_1.R2OOS())\n",
    "print('ew :', lasso_1.r2_oos_portfolio())\n",
    "print('dw :', lasso_1.r2_oos_portfolio(cols = cols_dw, weights=w_custom))\n",
    "\n",
    "print(lasso_2.R2OOS())\n",
    "print('ew :', lasso_2.r2_oos_portfolio())\n",
    "print('dw :', lasso_2.r2_oos_portfolio(cols = cols_dw, weights=w_custom))\n",
    "\n",
    "print(lasso_3.R2OOS())\n",
    "print('ew :', lasso_3.r2_oos_portfolio())\n",
    "print('dw :', lasso_3.r2_oos_portfolio(cols = cols_dw, weights=w_custom))"
   ]
  },
  {
   "cell_type": "code",
   "execution_count": 7,
   "metadata": {},
   "outputs": [
    {
     "name": "stderr",
     "output_type": "stream",
     "text": [
      "Penalized rolling: 100%|██████████| 360/360 [01:00<00:00,  5.95it/s]\n",
      "Penalized rolling: 100%|██████████| 360/360 [00:59<00:00,  6.04it/s]\n",
      "Penalized rolling: 100%|██████████| 360/360 [01:01<00:00,  5.83it/s]\n"
     ]
    },
    {
     "name": "stdout",
     "output_type": "stream",
     "text": [
      "xr_2    -0.175665\n",
      "xr_5    -0.089630\n",
      "xr_7    -0.028150\n",
      "xr_10    0.063809\n",
      "dtype: float64\n",
      "ew : -0.1658429596938562\n",
      "dw : -0.14602176236112752\n",
      "xr_2    -0.042565\n",
      "xr_5     0.024434\n",
      "xr_7     0.054527\n",
      "xr_10    0.099454\n",
      "dtype: float64\n",
      "ew : -0.06800728526477418\n",
      "dw : -0.0670683359962545\n",
      "xr_2    -0.234712\n",
      "xr_5    -0.089215\n",
      "xr_7    -0.054463\n",
      "xr_10   -0.005559\n",
      "dtype: float64\n",
      "ew : -0.20162131707054187\n",
      "dw : -0.19458831277632793\n"
     ]
    }
   ],
   "source": [
    "elasticnet_1 = Machine(SL, y, 'Penalized', option='elasticnet', params_grid=param_grid_elasticnet)\n",
    "elasticnet_1.training()\n",
    "\n",
    "elasticnet_2 = Machine(CP, y, 'Penalized', option='elasticnet', params_grid=param_grid_elasticnet)\n",
    "elasticnet_2.training()\n",
    "\n",
    "elasticnet_3 = Machine(F6, y, 'Penalized', option='elasticnet', params_grid=param_grid_elasticnet)\n",
    "elasticnet_3.training()\n",
    "\n",
    "\n",
    "print(elasticnet_1.R2OOS())\n",
    "print('ew :', elasticnet_1.r2_oos_portfolio())\n",
    "print('dw :', elasticnet_1.r2_oos_portfolio(cols = cols_dw, weights=w_custom))\n",
    "\n",
    "print(elasticnet_2.R2OOS())\n",
    "print('ew :', elasticnet_2.r2_oos_portfolio())\n",
    "print('dw :', elasticnet_2.r2_oos_portfolio(cols = cols_dw, weights=w_custom))\n",
    "\n",
    "print(elasticnet_3.R2OOS())\n",
    "print('ew :', elasticnet_3.r2_oos_portfolio())\n",
    "print('dw :', elasticnet_3.r2_oos_portfolio(cols = cols_dw, weights=w_custom))"
   ]
  },
  {
   "cell_type": "markdown",
   "metadata": {},
   "source": [
    "### Tree"
   ]
  },
  {
   "cell_type": "code",
   "execution_count": 8,
   "metadata": {},
   "outputs": [
    {
     "name": "stderr",
     "output_type": "stream",
     "text": [
      "Tree rolling: 100%|██████████| 208/208 [1:21:03<00:00, 23.38s/it]\n",
      "Tree rolling: 100%|██████████| 208/208 [1:07:29<00:00, 19.47s/it]\n",
      "Tree rolling: 100%|██████████| 208/208 [1:01:17<00:00, 17.68s/it]\n"
     ]
    },
    {
     "name": "stdout",
     "output_type": "stream",
     "text": [
      "xr_2    -0.721309\n",
      "xr_5    -0.233886\n",
      "xr_7    -0.126278\n",
      "xr_10   -0.012651\n",
      "dtype: float64\n",
      "ew : -0.12682594400060188\n",
      "dw : -0.08109252091980879\n",
      "xr_2    -0.169770\n",
      "xr_5    -0.095587\n",
      "xr_7    -0.088162\n",
      "xr_10   -0.025225\n",
      "dtype: float64\n",
      "ew : -0.06080850593126108\n",
      "dw : -0.05180146270678243\n",
      "xr_2    -0.271849\n",
      "xr_5    -0.080663\n",
      "xr_7    -0.053206\n",
      "xr_10   -0.029005\n",
      "dtype: float64\n",
      "ew : -0.050005305156443525\n",
      "dw : -0.038609828390823386\n"
     ]
    }
   ],
   "source": [
    "rf_1 = Machine(SL, y, 'Tree', option = 'RandomForest', params_grid=param_grid_rf, burn_in_start=bs, burn_in_end=be, period=p)\n",
    "rf_1.training()\n",
    "rf_2 = Machine(CP, y, 'Tree', option = 'RandomForest', params_grid=param_grid_rf, burn_in_start=bs, burn_in_end=be, period=p)\n",
    "rf_2.training()\n",
    "rf_3 = Machine(F6, y, 'Tree', option = 'RandomForest', params_grid=param_grid_rf, burn_in_start=bs, burn_in_end=be, period=p)\n",
    "rf_3.training()\n",
    "\n",
    "print(rf_1.R2OOS())\n",
    "print('ew :', rf_1.r2_oos_portfolio())\n",
    "print('dw :', rf_1.r2_oos_portfolio(cols = cols_dw, weights=w_custom))\n",
    "\n",
    "print(rf_2.R2OOS())\n",
    "print('ew :', rf_2.r2_oos_portfolio())\n",
    "print('dw :', rf_2.r2_oos_portfolio(cols = cols_dw, weights=w_custom))\n",
    "\n",
    "print(rf_3.R2OOS())\n",
    "print('ew :', rf_3.r2_oos_portfolio())\n",
    "print('dw :', rf_3.r2_oos_portfolio(cols = cols_dw, weights=w_custom))"
   ]
  },
  {
   "cell_type": "code",
   "execution_count": 9,
   "metadata": {},
   "outputs": [
    {
     "name": "stderr",
     "output_type": "stream",
     "text": [
      "Tree rolling: 100%|██████████| 208/208 [29:15<00:00,  8.44s/it]\n",
      "Tree rolling: 100%|██████████| 208/208 [29:32<00:00,  8.52s/it]\n",
      "Tree rolling: 100%|██████████| 208/208 [29:53<00:00,  8.62s/it]\n"
     ]
    },
    {
     "name": "stdout",
     "output_type": "stream",
     "text": [
      "xr_2    -0.232331\n",
      "xr_5    -0.044681\n",
      "xr_7     0.006003\n",
      "xr_10    0.064578\n",
      "dtype: float64\n",
      "ew : 0.0074013929188290195\n",
      "dw : 0.030348309683687624\n",
      "xr_2    -0.051354\n",
      "xr_5    -0.019894\n",
      "xr_7    -0.013372\n",
      "xr_10    0.011711\n",
      "dtype: float64\n",
      "ew : -0.003257708171678031\n",
      "dw : 0.0020672315607360714\n",
      "xr_2    -0.258760\n",
      "xr_5    -0.079659\n",
      "xr_7    -0.053671\n",
      "xr_10   -0.025667\n",
      "dtype: float64\n",
      "ew : -0.05128120892510046\n",
      "dw : -0.038863526145635596\n"
     ]
    }
   ],
   "source": [
    "et_1 = Machine(SL, y, 'Tree', option='ExtremeTrees', params_grid=param_grid_et, burn_in_start=bs, burn_in_end=be, period=p)\n",
    "et_1.training()\n",
    "et_2 = Machine(CP, y, 'Tree', option='ExtremeTrees', params_grid=param_grid_et, burn_in_start=bs, burn_in_end=be, period=p)\n",
    "et_2.training()\n",
    "et_3 = Machine(F6, y, 'Tree', option='ExtremeTrees', params_grid=param_grid_et, burn_in_start=bs, burn_in_end=be, period=p)\n",
    "et_3.training()\n",
    "\n",
    "\n",
    "print(et_1.R2OOS())\n",
    "print('ew :', et_1.r2_oos_portfolio()) \n",
    "print('dw :', et_1.r2_oos_portfolio(cols = cols_dw, weights=w_custom))\n",
    "\n",
    "print(et_2.R2OOS())\n",
    "print('ew :', et_2.r2_oos_portfolio())\n",
    "print('dw :', et_2.r2_oos_portfolio(cols = cols_dw, weights=w_custom))\n",
    "\n",
    "print(et_3.R2OOS())\n",
    "print('ew :', et_3.r2_oos_portfolio())\n",
    "print('dw :', et_3.r2_oos_portfolio(cols = cols_dw, weights=w_custom))\n"
   ]
  },
  {
   "cell_type": "code",
   "execution_count": 13,
   "metadata": {},
   "outputs": [
    {
     "name": "stderr",
     "output_type": "stream",
     "text": [
      "Tree rolling: 100%|██████████| 208/208 [03:21<00:00,  1.03it/s]\n",
      "Tree rolling: 100%|██████████| 208/208 [02:25<00:00,  1.43it/s]\n",
      "Tree rolling: 100%|██████████| 208/208 [02:16<00:00,  1.52it/s]\n"
     ]
    },
    {
     "name": "stdout",
     "output_type": "stream",
     "text": [
      "xr_2    -0.679394\n",
      "xr_5    -0.241951\n",
      "xr_7    -0.111564\n",
      "xr_10    0.006505\n",
      "dtype: float64\n",
      "ew : -0.11712575607778808\n",
      "dw : -0.06710734799803997\n",
      "xr_2    -0.058526\n",
      "xr_5    -0.045104\n",
      "xr_7    -0.055717\n",
      "xr_10   -0.029156\n",
      "dtype: float64\n",
      "ew : -0.03902176223107512\n",
      "dw : -0.03676165924995667\n",
      "xr_2    -0.407986\n",
      "xr_5    -0.168785\n",
      "xr_7    -0.118883\n",
      "xr_10   -0.064790\n",
      "dtype: float64\n",
      "ew : -0.11435786299241091\n",
      "dw : -0.09344122922317832\n"
     ]
    }
   ],
   "source": [
    "xgb_1 = Machine(SL, y, 'Tree', option='XGB', params_grid=param_grid_xgb, burn_in_start=bs, burn_in_end=be, period=p)\n",
    "xgb_1.training()\n",
    "xgb_2 = Machine(CP, y, 'Tree', option='XGB', params_grid=param_grid_xgb, burn_in_start=bs, burn_in_end=be, period=p)\n",
    "xgb_2.training()\n",
    "xgb_3 = Machine(F6, y, 'Tree', option='XGB', params_grid=param_grid_xgb, burn_in_start=bs, burn_in_end=be, period=p)\n",
    "xgb_3.training()\n",
    "\n",
    "print(xgb_1.R2OOS())\n",
    "print('ew :', xgb_1.r2_oos_portfolio())\n",
    "print('dw :', xgb_1.r2_oos_portfolio(cols = cols_dw, weights=w_custom))\n",
    "\n",
    "print(xgb_2.R2OOS())\n",
    "print('ew :', xgb_2.r2_oos_portfolio())\n",
    "print('dw :', xgb_2.r2_oos_portfolio(cols = cols_dw, weights=w_custom))\n",
    "\n",
    "print(xgb_3.R2OOS())\n",
    "print('ew :', xgb_3.r2_oos_portfolio())\n",
    "print('dw :', xgb_3.r2_oos_portfolio(cols = cols_dw, weights=w_custom))"
   ]
  },
  {
   "cell_type": "markdown",
   "metadata": {},
   "source": [
    "### DNN : FWDs ONly"
   ]
  },
  {
   "cell_type": "code",
   "execution_count": null,
   "metadata": {},
   "outputs": [],
   "source": [
    "param_grid = {\n",
    "    \"dnn__module__hidden\": [(3,)],    \n",
    "    \"dnn__module__dropout\": [0.2],\n",
    "    \"dnn__lr\": [0.01],\n",
    "    \"dnn__optimizer__weight_decay\": [0.0005],\n",
    "}\n",
    "\n",
    "dnn_1 = Machine(\n",
    "    FWDS, y,\n",
    "    model_type=\"DNN\",                  \n",
    "    params_grid=param_grid,\n",
    "    burn_in_start=bs,\n",
    "    burn_in_end=be,\n",
    "    period=p,\n",
    "    forecast_horizon=12,\n",
    "    random_state=15\n",
    ")\n",
    "dnn_1.training()\n",
    "print(dnn_1.R2OOS())\n",
    "print('ew :', dnn_1.r2_oos_portfolio())\n",
    "print('dw :', dnn_1.r2_oos_portfolio(cols = cols_dw, weights=w_custom))\n"
   ]
  },
  {
   "cell_type": "markdown",
   "metadata": {},
   "source": [
    "### DNN : FWDS + MACRO"
   ]
  },
  {
   "cell_type": "code",
   "execution_count": null,
   "metadata": {},
   "outputs": [],
   "source": [
    "param_grid = {\n",
    "    \"dnn__module__hidden\": [(3,3)],    \n",
    "    \"dnn__module__dropout\": [0.2],\n",
    "    \"dnn__lr\": [0.01],\n",
    "    \"dnn__optimizer__weight_decay\": [0.0005],\n",
    "}\n",
    "\n",
    "dnn_2 = Machine(\n",
    "    FWDS, y,\n",
    "    model_type=\"DNN\",                  \n",
    "    params_grid=param_grid,\n",
    "    burn_in_start=bs,\n",
    "    burn_in_end=be,\n",
    "    period=p,\n",
    "    forecast_horizon=12,\n",
    "    random_state=15\n",
    ")\n",
    "dnn_2.training()\n",
    "print(dnn_2.R2OOS())\n",
    "print('ew :', dnn_2.r2_oos_portfolio())\n",
    "print('dw :', dnn_2.r2_oos_portfolio(cols = cols_dw, weights=w_custom))\n"
   ]
  },
  {
   "cell_type": "code",
   "execution_count": null,
   "metadata": {},
   "outputs": [],
   "source": [
    "AGG = pd.concat([MACV, CP], axis=1)\n",
    "\n",
    "# ── 예시: dual-branch MLP 하이퍼파라미터 그리드 ─────────────────────────\n",
    "param_grid = {\n",
    "    # ── Branch-1 Macro\n",
    "    \"dnn__module__hidden1\": [(32,)],    # 얕은 vs. 두 층\n",
    "    \"dnn__module__drop1\":   [0.2],       # 드롭아웃 비율\n",
    "\n",
    "    # ── Branch-2 FWDS : CP\n",
    "    \"dnn__module__hidden2\": [(1)],\n",
    "    \"dnn__module__drop2\":   [0.2],\n",
    "\n",
    "    # ── 공통 optimizer & regularization ────────────────────────────────\n",
    "    \"dnn__optimizer__lr\":           [0.001],\n",
    "    \"dnn__optimizer__weight_decay\": [0.0005]\n",
    "}\n",
    "\n",
    "grp1_cols = [c for c in AGG.columns if c.startswith(\"F\")]\n",
    "grp2_cols = [c for c in AGG.columns if c not in grp1_cols]\n",
    "\n",
    "dnn_d1 = Machine(\n",
    "    AGG, y,\n",
    "    model_type=\"DNN_DUAL\",\n",
    "    option={\"grp1\": grp1_cols, \"grp2\": grp2_cols},\n",
    "    params_grid=param_grid,\n",
    "    burn_in_start=bs,\n",
    "    burn_in_end=be,\n",
    "    period=p,\n",
    "    forecast_horizon=12\n",
    ")\n",
    "dnn_d1.training()\n",
    "print(dnn_d1.R2OOS())"
   ]
  },
  {
   "cell_type": "code",
   "execution_count": null,
   "metadata": {},
   "outputs": [],
   "source": [
    "AGG2 = pd.concat([MACV, FWDS], axis=1)\n",
    "\n",
    "# ── 예시: dual-branch MLP 하이퍼파라미터 그리드 ─────────────────────────\n",
    "param_grid = {\n",
    "    # ── Branch-1 Macro\n",
    "    \"dnn__module__hidden1\": [(32,)],    # 얕은 vs. 두 층\n",
    "    \"dnn__module__drop1\":   [0.2],       # 드롭아웃 비율\n",
    "\n",
    "    # ── Branch-2 FWDS : CP\n",
    "    \"dnn__module__hidden2\": [(3,3)],\n",
    "    \"dnn__module__drop2\":   [0.2],\n",
    "\n",
    "    # ── 공통 optimizer & regularization ────────────────────────────────\n",
    "    \"dnn__optimizer__lr\":           [0.001],\n",
    "    \"dnn__optimizer__weight_decay\": [0.0005]\n",
    "}\n",
    "\n",
    "grp1_cols = [c for c in AGG2.columns if c.startswith(\"F\")]\n",
    "grp2_cols = [c for c in AGG2.columns if c not in grp1_cols]\n",
    "\n",
    "dnn_d2 = Machine(\n",
    "    AGG2, y,\n",
    "    model_type=\"DNN_DUAL\",\n",
    "    option={\"grp1\": grp1_cols, \"grp2\": grp2_cols},\n",
    "    burn_in_start=bs,\n",
    "    burn_in_end=be,\n",
    "    period=p,\n",
    "    params_grid=param_grid,\n",
    "    forecast_horizon=12\n",
    ")\n",
    "dnn_d2.training()\n",
    "print(dnn_d2.R2OOS())"
   ]
  }
 ],
 "metadata": {
  "kernelspec": {
   "display_name": "Python 3",
   "language": "python",
   "name": "python3"
  },
  "language_info": {
   "codemirror_mode": {
    "name": "ipython",
    "version": 3
   },
   "file_extension": ".py",
   "mimetype": "text/x-python",
   "name": "python",
   "nbconvert_exporter": "python",
   "pygments_lexer": "ipython3",
   "version": "3.9.6"
  }
 },
 "nbformat": 4,
 "nbformat_minor": 4
}

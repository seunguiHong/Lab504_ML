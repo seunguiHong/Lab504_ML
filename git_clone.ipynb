import subprocess

def update_repo():
    cmd = "cd /home/ubuntu/your-repo && git fetch --all && git reset --hard origin/main"
    subprocess.run(cmd, shell=True)
    print("✅ GitHub 최신 버전으로 업데이트 완료")

# 호출할 때
update_repo()

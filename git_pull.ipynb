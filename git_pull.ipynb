{
 "cells": [
  {
   "cell_type": "code",
   "execution_count": 2,
   "id": "1c18c0bf",
   "metadata": {},
   "outputs": [
    {
     "name": "stdout",
     "output_type": "stream",
     "text": [
      "HEAD is now at f9afcd5 Delete git_clone.ipynb\n",
      "✅ GitHub 최신 버전으로 업데이트 완료\n"
     ]
    },
    {
     "name": "stderr",
     "output_type": "stream",
     "text": [
      "From https://github.com/seunguiHong/Lab504_ML\n",
      "   9af34ea..f9afcd5  main       -> origin/main\n"
     ]
    }
   ],
   "source": [
    "import subprocess\n",
    "\n",
    "def update_repo():\n",
    "    cmd = \"cd /home/ubuntu/Lab504_ML && git fetch --all && git reset --hard origin/main\"\n",
    "    subprocess.run(cmd, shell=True)\n",
    "    print(\"✅ GitHub 최신 버전으로 업데이트 완료\")\n",
    "\n",
    "# 호출할 때\n",
    "update_repo()\n"
   ]
  },
  {
   "cell_type": "code",
   "execution_count": null,
   "id": "e51ef126",
   "metadata": {},
   "outputs": [],
   "source": []
  }
 ],
 "metadata": {
  "kernelspec": {
   "display_name": "Python 3 (ipykernel)",
   "language": "python",
   "name": "python3"
  },
  "language_info": {
   "codemirror_mode": {
    "name": "ipython",
    "version": 3
   },
   "file_extension": ".py",
   "mimetype": "text/x-python",
   "name": "python",
   "nbconvert_exporter": "python",
   "pygments_lexer": "ipython3",
   "version": "3.12.3"
  }
 },
 "nbformat": 4,
 "nbformat_minor": 5
}
